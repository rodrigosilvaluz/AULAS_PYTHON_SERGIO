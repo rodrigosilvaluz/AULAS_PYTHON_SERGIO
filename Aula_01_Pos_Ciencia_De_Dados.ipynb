{
  "nbformat": 4,
  "nbformat_minor": 0,
  "metadata": {
    "colab": {
      "name": "Aula 01 - Pos_Ciencia_De_Dados.ipynb",
      "provenance": [],
      "collapsed_sections": [
        "iiH0ts6TjZWZ",
        "orj0h8Arjzpc",
        "DiX3qv0dj9ZT"
      ]
    },
    "kernelspec": {
      "name": "python3",
      "display_name": "Python 3"
    },
    "language_info": {
      "name": "python"
    }
  },
  "cells": [
    {
      "cell_type": "markdown",
      "metadata": {
        "id": "97R_-0dZn1rQ"
      },
      "source": [
        "# **Turma de Pós-Graduação de Ciência de Dados**\n",
        "\n",
        "**Disciplina: Linguagem de Programação Python**\n",
        "\n",
        "**prof: Sérgio Assunção Monteiro, DSc**"
      ]
    },
    {
      "cell_type": "markdown",
      "metadata": {
        "id": "GiRo-PmxnoTX"
      },
      "source": [
        "## **Aula 01**"
      ]
    },
    {
      "cell_type": "markdown",
      "metadata": {
        "id": "iiH0ts6TjZWZ"
      },
      "source": [
        "# **Exemplo 01**\n",
        "\n",
        "1.   Entrada de dados via linha de comando\n",
        "2.   Comandos condicionais: if - else\n",
        "\n"
      ]
    },
    {
      "cell_type": "markdown",
      "metadata": {
        "id": "WbZgc83b8Ftv"
      },
      "source": [
        "**Comando if-else**"
      ]
    },
    {
      "cell_type": "code",
      "metadata": {
        "id": "6AOoRIBG4vo1",
        "colab": {
          "base_uri": "https://localhost:8080/"
        },
        "outputId": "36660e64-bfa6-4723-908d-6241c918986d"
      },
      "source": [
        "valor = int(input(\"Entre com o valor da compra: \"))"
      ],
      "execution_count": null,
      "outputs": [
        {
          "name": "stdout",
          "output_type": "stream",
          "text": [
            "Entre com o valor da compra: 10\n"
          ]
        }
      ]
    },
    {
      "cell_type": "code",
      "metadata": {
        "colab": {
          "base_uri": "https://localhost:8080/"
        },
        "id": "4Ndw9Jhb3AFw",
        "outputId": "cf0eb1d1-38a6-4994-b703-019656c4b621"
      },
      "source": [
        "print(valor)"
      ],
      "execution_count": null,
      "outputs": [
        {
          "output_type": "stream",
          "name": "stdout",
          "text": [
            "10\n"
          ]
        }
      ]
    },
    {
      "cell_type": "code",
      "metadata": {
        "colab": {
          "base_uri": "https://localhost:8080/"
        },
        "id": "6wz5Jgb73VvX",
        "outputId": "cc29ee1a-efb9-4a63-90c3-9014fe8801c8"
      },
      "source": [
        "print('o valor é:',valor)"
      ],
      "execution_count": null,
      "outputs": [
        {
          "output_type": "stream",
          "name": "stdout",
          "text": [
            "o valor é: 10\n"
          ]
        }
      ]
    },
    {
      "cell_type": "code",
      "metadata": {
        "colab": {
          "base_uri": "https://localhost:8080/"
        },
        "id": "aDS8knWp3kYv",
        "outputId": "21c6b92a-90fe-433a-a351-8510de6a7042"
      },
      "source": [
        "print('o valor é: {}'.format(valor))"
      ],
      "execution_count": null,
      "outputs": [
        {
          "output_type": "stream",
          "name": "stdout",
          "text": [
            "o valor é: 10\n"
          ]
        }
      ]
    },
    {
      "cell_type": "code",
      "metadata": {
        "id": "G6J1U4ci2-9-"
      },
      "source": [
        "if valor<1000:\n",
        "  desconto = valor*0.05;\n",
        "else:\n",
        "  desconto = valor*0.10"
      ],
      "execution_count": null,
      "outputs": []
    },
    {
      "cell_type": "code",
      "metadata": {
        "colab": {
          "base_uri": "https://localhost:8080/"
        },
        "id": "LFOuJFAljVmW",
        "outputId": "808e13ad-9ab0-47ac-d4d2-b13505d5b9a6"
      },
      "source": [
        "print(\"Desconto: {}\".format(desconto)) \n",
        "print(\"Valor Final: {}\".format(valor-desconto))"
      ],
      "execution_count": null,
      "outputs": [
        {
          "output_type": "stream",
          "name": "stdout",
          "text": [
            "Desconto: 0.5\n",
            "Valor Final: 9.5\n"
          ]
        }
      ]
    },
    {
      "cell_type": "markdown",
      "metadata": {
        "id": "orj0h8Arjzpc"
      },
      "source": [
        "# **Exemplo 02**\n",
        "\n",
        "1.   Comando iterativo: while\n"
      ]
    },
    {
      "cell_type": "markdown",
      "metadata": {
        "id": "avtXkyfr8Una"
      },
      "source": [
        "**while**"
      ]
    },
    {
      "cell_type": "code",
      "metadata": {
        "colab": {
          "base_uri": "https://localhost:8080/"
        },
        "id": "-OKBLmsz69s0",
        "outputId": "e3320b27-318b-4c97-f9d1-c5415a88ee5d"
      },
      "source": [
        "total_str = input(\"Entre com o total de repetições: \")"
      ],
      "execution_count": null,
      "outputs": [
        {
          "name": "stdout",
          "output_type": "stream",
          "text": [
            "Entre com o total de repetições: 5\n"
          ]
        }
      ]
    },
    {
      "cell_type": "code",
      "metadata": {
        "id": "DLFEpLOs7AB8"
      },
      "source": [
        "total = int(total_str)"
      ],
      "execution_count": null,
      "outputs": []
    },
    {
      "cell_type": "code",
      "metadata": {
        "colab": {
          "base_uri": "https://localhost:8080/"
        },
        "id": "j2M6R2wN7fb7",
        "outputId": "bbbc6776-af1d-4f5a-ffc3-92bc141cf414"
      },
      "source": [
        "print('o total é: {}'.format(total))"
      ],
      "execution_count": null,
      "outputs": [
        {
          "output_type": "stream",
          "name": "stdout",
          "text": [
            "o total é: 5\n"
          ]
        }
      ]
    },
    {
      "cell_type": "code",
      "metadata": {
        "id": "UjK5TwV48XvR",
        "colab": {
          "base_uri": "https://localhost:8080/"
        },
        "outputId": "cc0050b2-9f03-4a99-d4a3-1ba246eb062b"
      },
      "source": [
        "contador=0\n",
        "while (contador < total):\n",
        "  print(contador)\n",
        "  contador = contador + 1"
      ],
      "execution_count": null,
      "outputs": [
        {
          "output_type": "stream",
          "name": "stdout",
          "text": [
            "0\n",
            "1\n",
            "2\n",
            "3\n",
            "4\n"
          ]
        }
      ]
    },
    {
      "cell_type": "code",
      "metadata": {
        "colab": {
          "base_uri": "https://localhost:8080/"
        },
        "id": "vis0EzBFj6x5",
        "outputId": "105f75b8-db7f-42b2-ed54-1dfc8d0a9678"
      },
      "source": [
        "print(\"Forma 1: O programa terminou. O total de iterações é: [\",total,\"]\")\n",
        "print(\"Forma 2: O programa terminou. O total de iterações é: [{}]\".format(total))"
      ],
      "execution_count": null,
      "outputs": [
        {
          "output_type": "stream",
          "name": "stdout",
          "text": [
            "Forma 1: O programa terminou. O total de iterações é: [ 5 ]\n",
            "Forma 2: O programa terminou. O total de iterações é: [5]\n"
          ]
        }
      ]
    },
    {
      "cell_type": "markdown",
      "metadata": {
        "id": "DiX3qv0dj9ZT"
      },
      "source": [
        "# **Exemplo 03**\n",
        "\n",
        "1.   Comando iterativo: for\n",
        "2.   Listas\n"
      ]
    },
    {
      "cell_type": "markdown",
      "metadata": {
        "id": "NbUpllHF8dMZ"
      },
      "source": [
        "**listas**"
      ]
    },
    {
      "cell_type": "code",
      "metadata": {
        "id": "xwiC0cld8eaI"
      },
      "source": [
        "x=[1,2,3,4,5]"
      ],
      "execution_count": null,
      "outputs": []
    },
    {
      "cell_type": "code",
      "metadata": {
        "colab": {
          "base_uri": "https://localhost:8080/"
        },
        "id": "-MIgT7y39MQa",
        "outputId": "ba0b2ba2-47c5-4acf-8e60-c8a33a1cfa4a"
      },
      "source": [
        "print(\"Os valores de x são:{}\".format(x))"
      ],
      "execution_count": null,
      "outputs": [
        {
          "output_type": "stream",
          "name": "stdout",
          "text": [
            "Os valores de x são:[1, 2, 3, 4, 5]\n"
          ]
        }
      ]
    },
    {
      "cell_type": "code",
      "metadata": {
        "colab": {
          "base_uri": "https://localhost:8080/"
        },
        "id": "9rgF_RCN9xJ6",
        "outputId": "8284fc66-af2f-42f3-bb1e-2e58a00f55e3"
      },
      "source": [
        "print(\"x[0]={}; x[1]={}; x[2]={}; x[3]={}; x[4]={}\".format(x[0],x[1],x[2],x[3],x[4]))"
      ],
      "execution_count": null,
      "outputs": [
        {
          "output_type": "stream",
          "name": "stdout",
          "text": [
            "x[0]=1; x[1]=2; x[2]=3; x[3]=4; x[4]=5\n"
          ]
        }
      ]
    },
    {
      "cell_type": "code",
      "metadata": {
        "id": "X4bw_utv9JhL"
      },
      "source": [
        "somat=0\n",
        "for elemento in x:\n",
        "  somat = somat + elemento\n",
        "  #somat += elemento"
      ],
      "execution_count": null,
      "outputs": []
    },
    {
      "cell_type": "code",
      "metadata": {
        "colab": {
          "base_uri": "https://localhost:8080/"
        },
        "id": "1okrQmR5nV0N",
        "outputId": "fe672a35-5bfa-47f2-cf27-7e04275ed394"
      },
      "source": [
        "print(\"O somatório dos elementos do vetor é:[{}]\".format(somat))"
      ],
      "execution_count": null,
      "outputs": [
        {
          "output_type": "stream",
          "name": "stdout",
          "text": [
            "O somatório dos elementos do vetor é:[15]\n"
          ]
        }
      ]
    },
    {
      "cell_type": "code",
      "metadata": {
        "id": "qR9GFRb38jXB"
      },
      "source": [
        "w=[1,2,3,4,5]"
      ],
      "execution_count": null,
      "outputs": []
    },
    {
      "cell_type": "code",
      "metadata": {
        "id": "RCkNBdzk_45S"
      },
      "source": [
        "somat=0\n",
        "n=len(w)\n",
        "for i in range(n): \n",
        "    somat=somat+w[i]"
      ],
      "execution_count": null,
      "outputs": []
    },
    {
      "cell_type": "code",
      "metadata": {
        "colab": {
          "base_uri": "https://localhost:8080/"
        },
        "id": "dDmIgzEvnZWt",
        "outputId": "966c15ce-54d2-4d54-f008-64cb7967d369"
      },
      "source": [
        "print(); # quebre a linha\n",
        "print(\"O somatório dos elementos do vetor é:[{}]\".format(somat))"
      ],
      "execution_count": null,
      "outputs": [
        {
          "output_type": "stream",
          "name": "stdout",
          "text": [
            "\n",
            "O somatório dos elementos do vetor é:[15]\n"
          ]
        }
      ]
    },
    {
      "cell_type": "code",
      "metadata": {
        "id": "nq1WhJ8K8m0U"
      },
      "source": [
        "lista_elementos_1 = range(10)"
      ],
      "execution_count": null,
      "outputs": []
    },
    {
      "cell_type": "code",
      "metadata": {
        "colab": {
          "base_uri": "https://localhost:8080/"
        },
        "id": "KSoBUyVa3Ar4",
        "outputId": "ab93c8f4-7e80-4e83-a6b2-806dd90b96d5"
      },
      "source": [
        "print('lista_elementos_1: {}'.format(lista_elementos_1))"
      ],
      "execution_count": null,
      "outputs": [
        {
          "output_type": "stream",
          "name": "stdout",
          "text": [
            "lista_elementos_1: range(0, 10)\n"
          ]
        }
      ]
    },
    {
      "cell_type": "code",
      "metadata": {
        "id": "IkHKmx-PBhLH"
      },
      "source": [
        "lista_elementos_2 = list(lista_elementos_1)"
      ],
      "execution_count": null,
      "outputs": []
    },
    {
      "cell_type": "code",
      "metadata": {
        "colab": {
          "base_uri": "https://localhost:8080/"
        },
        "id": "gttRgog3BDmB",
        "outputId": "eb354caf-ee7a-4883-fb4c-024c2339df79"
      },
      "source": [
        "print('lista_elementos_1: {}'.format(list(lista_elementos_1)))"
      ],
      "execution_count": null,
      "outputs": [
        {
          "output_type": "stream",
          "name": "stdout",
          "text": [
            "lista_elementos_1: [0, 1, 2, 3, 4, 5, 6, 7, 8, 9]\n"
          ]
        }
      ]
    },
    {
      "cell_type": "code",
      "metadata": {
        "colab": {
          "base_uri": "https://localhost:8080/"
        },
        "id": "5d8ZMcV6Bp4G",
        "outputId": "a0a07a0d-96c5-4564-b64c-7a22ae62489e"
      },
      "source": [
        "print('lista_elementos_2: {}'.format(lista_elementos_2))"
      ],
      "execution_count": null,
      "outputs": [
        {
          "output_type": "stream",
          "name": "stdout",
          "text": [
            "lista_elementos_2: [0, 1, 2, 3, 4, 5, 6, 7, 8, 9]\n"
          ]
        }
      ]
    },
    {
      "cell_type": "code",
      "metadata": {
        "id": "V7ateDay8pyk"
      },
      "source": [
        "lista_numeros=[1,2,3,4,5]"
      ],
      "execution_count": null,
      "outputs": []
    },
    {
      "cell_type": "code",
      "metadata": {
        "id": "pWkRl9YiCPfw"
      },
      "source": [
        "somat=sum(lista_numeros)"
      ],
      "execution_count": null,
      "outputs": []
    },
    {
      "cell_type": "code",
      "metadata": {
        "colab": {
          "base_uri": "https://localhost:8080/"
        },
        "id": "KFe2uH5ICP-8",
        "outputId": "1ef9a8f4-c166-48a4-9756-39b0eadbb228"
      },
      "source": [
        "print(\"O somatório dos elementos da lista é:[{}]\".format(somat))"
      ],
      "execution_count": null,
      "outputs": [
        {
          "output_type": "stream",
          "name": "stdout",
          "text": [
            "O somatório dos elementos da lista é:[15]\n"
          ]
        }
      ]
    },
    {
      "cell_type": "markdown",
      "metadata": {
        "id": "rr3qkh1-82oq"
      },
      "source": [
        "## **Exercícios**"
      ]
    },
    {
      "cell_type": "markdown",
      "metadata": {
        "id": "hy7WdFEfoTl0"
      },
      "source": [
        "# **Implementar** um programa em python que receba como entrada uma lista de números e um valor e produza como saída os pares de números da lista que somados resultam no valor de entrada."
      ]
    },
    {
      "cell_type": "markdown",
      "metadata": {
        "id": "RMAehCd18_i8"
      },
      "source": [
        "**Exemplo 01:**\n",
        "\n",
        "**Entrada:** lista1 = [1, 5, 7, -1], soma = 6\n",
        "\n",
        "**Saída:** 2 \n",
        "Pares com soma 6 são (1, 5) e (7, -1)\n"
      ]
    },
    {
      "cell_type": "markdown",
      "metadata": {
        "id": "-MCCENBc9BnJ"
      },
      "source": [
        "**Exemplo 02:**\n",
        "\n",
        "**Entrada:** lista2 = [1, 5, 7, -1, 5], soma = 6\n",
        "\n",
        "**Saída:** 3\n",
        "Pares com soma 6 são (1, 5), (7, -1) e (1, 5)\n"
      ]
    },
    {
      "cell_type": "markdown",
      "metadata": {
        "id": "Ucj2_wBz9Ho6"
      },
      "source": [
        "**Solução: na aula 02**"
      ]
    }
  ]
}