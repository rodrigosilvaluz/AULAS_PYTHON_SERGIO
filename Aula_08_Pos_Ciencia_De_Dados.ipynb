{
  "nbformat": 4,
  "nbformat_minor": 0,
  "metadata": {
    "colab": {
      "name": "Aula 08 - Pos_Ciencia_De_Dados.ipynb",
      "provenance": [],
      "collapsed_sections": [
        "wduW81wRUSU2",
        "D47hKRi_MJZy"
      ]
    },
    "kernelspec": {
      "name": "python3",
      "display_name": "Python 3"
    },
    "language_info": {
      "name": "python"
    }
  },
  "cells": [
    {
      "cell_type": "markdown",
      "metadata": {
        "id": "emullE1LjVR0"
      },
      "source": [
        "# **Turma de Pós-Graduação de Ciência de Dados**\n",
        "\n",
        "**Disciplina: Linguagem de Programação Python**\n",
        "\n",
        "**prof: Sérgio Assunção Monteiro, DSc**"
      ]
    },
    {
      "cell_type": "markdown",
      "metadata": {
        "id": "Q3hPPlfSjcGu"
      },
      "source": [
        "**Aula 08**"
      ]
    },
    {
      "cell_type": "markdown",
      "source": [
        "# **Programação simbólica com o pacote sympy**"
      ],
      "metadata": {
        "id": "wduW81wRUSU2"
      }
    },
    {
      "cell_type": "code",
      "metadata": {
        "id": "RcT56f1bjQ1G"
      },
      "source": [
        "import sympy as sp\n",
        "sp.init_printing()"
      ],
      "execution_count": 1,
      "outputs": []
    },
    {
      "cell_type": "code",
      "metadata": {
        "id": "eZPJWARNl0B4"
      },
      "source": [
        "x = sp.Symbol('x')\n",
        "y,z=sp.symbols('y,z')"
      ],
      "execution_count": 2,
      "outputs": []
    },
    {
      "cell_type": "code",
      "metadata": {
        "colab": {
          "base_uri": "https://localhost:8080/"
        },
        "id": "p4Ewv7yqmVf_",
        "outputId": "ee9c6116-d361-4499-bccd-132e8a2628e0"
      },
      "source": [
        "g = x**2 + y**2 + z**2\n",
        "sp.pprint(g)"
      ],
      "execution_count": 3,
      "outputs": [
        {
          "output_type": "stream",
          "name": "stdout",
          "text": [
            " 2    2    2\n",
            "x  + y  + z \n"
          ]
        }
      ]
    },
    {
      "cell_type": "code",
      "metadata": {
        "colab": {
          "base_uri": "https://localhost:8080/",
          "height": 39
        },
        "id": "cXENwdP_AgUv",
        "outputId": "6f5d6008-008c-43ed-fbc9-b8998eb5f29b"
      },
      "source": [
        "g\n"
      ],
      "execution_count": 4,
      "outputs": [
        {
          "output_type": "execute_result",
          "data": {
            "image/png": "[encoded data removed]",
            "text/latex": "$\\displaystyle x^{2} + y^{2} + z^{2}$",
            "text/plain": [
              " 2    2    2\n",
              "x  + y  + z "
            ]
          },
          "metadata": {},
          "execution_count": 4
        }
      ]
    },
    {
      "cell_type": "code",
      "metadata": {
        "colab": {
          "base_uri": "https://localhost:8080/",
          "height": 39
        },
        "id": "TbrF1fBtmv7P",
        "outputId": "d7c7a2d3-4c12-4ac1-9950-c1bb4895cbb3"
      },
      "source": [
        "h = x**2 + 2*x - 5\n",
        "h\n"
      ],
      "execution_count": 5,
      "outputs": [
        {
          "output_type": "execute_result",
          "data": {
            "image/png": "[encoded data removed]",
            "text/latex": "$\\displaystyle x^{2} + 2 x - 5$",
            "text/plain": [
              " 2          \n",
              "x  + 2⋅x - 5"
            ]
          },
          "metadata": {},
          "execution_count": 5
        }
      ]
    },
    {
      "cell_type": "code",
      "metadata": {
        "colab": {
          "base_uri": "https://localhost:8080/"
        },
        "id": "ByoK-GtinCTt",
        "outputId": "de535b20-6c87-42ac-ba39-24ab893d7b4f"
      },
      "source": [
        "print(h.subs(x, 1))\n",
        "print(h.subs(x, z))\n",
        "print(h.subs(x, y**2))"
      ],
      "execution_count": 6,
      "outputs": [
        {
          "output_type": "stream",
          "name": "stdout",
          "text": [
            "-2\n",
            "z**2 + 2*z - 5\n",
            "y**4 + 2*y**2 - 5\n"
          ]
        }
      ]
    },
    {
      "cell_type": "code",
      "metadata": {
        "colab": {
          "base_uri": "https://localhost:8080/",
          "height": 55
        },
        "id": "BXQ5K7uXnQVu",
        "outputId": "dbc6c59f-9fcf-46eb-921f-db2328e644ef"
      },
      "source": [
        "f = (10*x**2 - 100*x + 250)/(x - 5)\n",
        "f"
      ],
      "execution_count": 7,
      "outputs": [
        {
          "output_type": "execute_result",
          "data": {
            "image/png": "[encoded data removed]",
            "text/latex": "$\\displaystyle \\frac{10 x^{2} - 100 x + 250}{x - 5}$",
            "text/plain": [
              "    2              \n",
              "10⋅x  - 100⋅x + 250\n",
              "───────────────────\n",
              "       x - 5       "
            ]
          },
          "metadata": {},
          "execution_count": 7
        }
      ]
    },
    {
      "cell_type": "code",
      "metadata": {
        "colab": {
          "base_uri": "https://localhost:8080/",
          "height": 39
        },
        "id": "pySIbah-nX-u",
        "outputId": "a8bd8abc-99a6-45b8-a999-dbb2d1b23b03"
      },
      "source": [
        "f.simplify()"
      ],
      "execution_count": 8,
      "outputs": [
        {
          "output_type": "execute_result",
          "data": {
            "image/png": "[encoded data removed]",
            "text/latex": "$\\displaystyle 10 x - 50$",
            "text/plain": [
              "10⋅x - 50"
            ]
          },
          "metadata": {},
          "execution_count": 8
        }
      ]
    },
    {
      "cell_type": "code",
      "metadata": {
        "colab": {
          "base_uri": "https://localhost:8080/",
          "height": 39
        },
        "id": "eE6w5cfuPnS6",
        "outputId": "e5ec6cfd-aa48-477f-940c-a0e65297d4e0"
      },
      "source": [
        "f = (x+1)**3+(x+5)**2\n",
        "f"
      ],
      "execution_count": 9,
      "outputs": [
        {
          "output_type": "execute_result",
          "data": {
            "image/png": "[encoded data removed]",
            "text/latex": "$\\displaystyle \\left(x + 1\\right)^{3} + \\left(x + 5\\right)^{2}$",
            "text/plain": [
              "       3          2\n",
              "(x + 1)  + (x + 5) "
            ]
          },
          "metadata": {},
          "execution_count": 9
        }
      ]
    },
    {
      "cell_type": "code",
      "metadata": {
        "colab": {
          "base_uri": "https://localhost:8080/",
          "height": 39
        },
        "id": "1ZmDKYUIBMNe",
        "outputId": "20272125-ee37-4bad-e024-a78fba58bebf"
      },
      "source": [
        "sp.expand(f)"
      ],
      "execution_count": 10,
      "outputs": [
        {
          "output_type": "execute_result",
          "data": {
            "image/png": "[encoded data removed]",
            "text/latex": "$\\displaystyle x^{3} + 4 x^{2} + 13 x + 26$",
            "text/plain": [
              " 3      2            \n",
              "x  + 4⋅x  + 13⋅x + 26"
            ]
          },
          "metadata": {},
          "execution_count": 10
        }
      ]
    },
    {
      "cell_type": "code",
      "metadata": {
        "colab": {
          "base_uri": "https://localhost:8080/",
          "height": 39
        },
        "id": "yeIQtYOFQQeB",
        "outputId": "504efcf7-877a-4b2a-95f2-8f12f6dfbc0c"
      },
      "source": [
        "f = 3*x**4-36*x**3+99*x**2-6*x - 144\n",
        "f"
      ],
      "execution_count": 11,
      "outputs": [
        {
          "output_type": "execute_result",
          "data": {
            "image/png": "[encoded data removed]",
            "text/latex": "$\\displaystyle 3 x^{4} - 36 x^{3} + 99 x^{2} - 6 x - 144$",
            "text/plain": [
              "   4       3       2            \n",
              "3⋅x  - 36⋅x  + 99⋅x  - 6⋅x - 144"
            ]
          },
          "metadata": {},
          "execution_count": 11
        }
      ]
    },
    {
      "cell_type": "code",
      "metadata": {
        "colab": {
          "base_uri": "https://localhost:8080/",
          "height": 39
        },
        "id": "4lgIHgTOBP08",
        "outputId": "cf0f7d87-c4c7-4d95-d889-e911d29ee7f4"
      },
      "source": [
        "sp.factor(f)"
      ],
      "execution_count": 12,
      "outputs": [
        {
          "output_type": "execute_result",
          "data": {
            "image/png": "[encoded data removed]",
            "text/latex": "$\\displaystyle 3 \\left(x - 8\\right) \\left(x - 3\\right) \\left(x - 2\\right) \\left(x + 1\\right)$",
            "text/plain": [
              "3⋅(x - 8)⋅(x - 3)⋅(x - 2)⋅(x + 1)"
            ]
          },
          "metadata": {},
          "execution_count": 12
        }
      ]
    },
    {
      "cell_type": "code",
      "metadata": {
        "colab": {
          "base_uri": "https://localhost:8080/",
          "height": 39
        },
        "id": "qfLS4YCwQkL5",
        "outputId": "84f9b6d8-5c02-4127-e995-cc8d8f702caa"
      },
      "source": [
        "y = (sp.sin(x))**2*sp.exp(2*x)\n",
        "y"
      ],
      "execution_count": 13,
      "outputs": [
        {
          "output_type": "execute_result",
          "data": {
            "image/png": "[encoded data removed]",
            "text/latex": "$\\displaystyle e^{2 x} \\sin^{2}{\\left(x \\right)}$",
            "text/plain": [
              " 2⋅x    2   \n",
              "ℯ   ⋅sin (x)"
            ]
          },
          "metadata": {},
          "execution_count": 13
        }
      ]
    },
    {
      "cell_type": "code",
      "metadata": {
        "colab": {
          "base_uri": "https://localhost:8080/",
          "height": 39
        },
        "id": "tDHwy5KHBYQM",
        "outputId": "669143c9-ca94-42fd-99be-bd9d088c79a2"
      },
      "source": [
        "z = sp.diff(y,x)\n",
        "z"
      ],
      "execution_count": 14,
      "outputs": [
        {
          "output_type": "execute_result",
          "data": {
            "image/png": "[encoded data removed]",
            "text/latex": "$\\displaystyle 2 e^{2 x} \\sin^{2}{\\left(x \\right)} + 2 e^{2 x} \\sin{\\left(x \\right)} \\cos{\\left(x \\right)}$",
            "text/plain": [
              "   2⋅x    2         2⋅x              \n",
              "2⋅ℯ   ⋅sin (x) + 2⋅ℯ   ⋅sin(x)⋅cos(x)"
            ]
          },
          "metadata": {},
          "execution_count": 14
        }
      ]
    },
    {
      "cell_type": "code",
      "metadata": {
        "colab": {
          "base_uri": "https://localhost:8080/",
          "height": 39
        },
        "id": "YSUv-_bsQ6Q3",
        "outputId": "9b003d8a-6cdb-471f-bbb6-92d217c04870"
      },
      "source": [
        "z.subs(x, 5)"
      ],
      "execution_count": 15,
      "outputs": [
        {
          "output_type": "execute_result",
          "data": {
            "image/png": "[encoded data removed]",
            "text/latex": "$\\displaystyle 2 e^{10} \\sin{\\left(5 \\right)} \\cos{\\left(5 \\right)} + 2 e^{10} \\sin^{2}{\\left(5 \\right)}$",
            "text/plain": [
              "   10                    10    2   \n",
              "2⋅ℯ  ⋅sin(5)⋅cos(5) + 2⋅ℯ  ⋅sin (5)"
            ]
          },
          "metadata": {},
          "execution_count": 15
        }
      ]
    },
    {
      "cell_type": "code",
      "metadata": {
        "colab": {
          "base_uri": "https://localhost:8080/",
          "height": 39
        },
        "id": "AxyTsH-MRQd5",
        "outputId": "d0e0ec19-bb13-45fc-ac2b-a1c29007197a"
      },
      "source": [
        "f = x**2 * sp.sin(x**2)\n",
        "f"
      ],
      "execution_count": 16,
      "outputs": [
        {
          "output_type": "execute_result",
          "data": {
            "image/png": "[encoded data removed]",
            "text/latex": "$\\displaystyle x^{2} \\sin{\\left(x^{2} \\right)}$",
            "text/plain": [
              " 2    ⎛ 2⎞\n",
              "x ⋅sin⎝x ⎠"
            ]
          },
          "metadata": {},
          "execution_count": 16
        }
      ]
    },
    {
      "cell_type": "code",
      "metadata": {
        "colab": {
          "base_uri": "https://localhost:8080/",
          "height": 73
        },
        "id": "24bRksm6Bf-k",
        "outputId": "5e1a69a0-adfe-4b73-cc76-d2afed4f0a77"
      },
      "source": [
        "g = sp.integrate(f,(x,0,5))\n",
        "g"
      ],
      "execution_count": 17,
      "outputs": [
        {
          "output_type": "execute_result",
          "data": {
            "image/png": "[encoded data removed]",
            "text/latex": "$\\displaystyle - \\frac{25 \\cos{\\left(25 \\right)} \\Gamma\\left(\\frac{5}{4}\\right)}{8 \\Gamma\\left(\\frac{9}{4}\\right)} + \\frac{5 \\sqrt{2} \\sqrt{\\pi} C\\left(\\frac{5 \\sqrt{2}}{\\sqrt{\\pi}}\\right) \\Gamma\\left(\\frac{5}{4}\\right)}{16 \\Gamma\\left(\\frac{9}{4}\\right)}$",
            "text/plain": [
              "                               ⎛5⋅√2⎞       \n",
              "                      5⋅√2⋅√π⋅C⎜────⎟⋅Γ(5/4)\n",
              "  25⋅cos(25)⋅Γ(5/4)            ⎝ √π ⎠       \n",
              "- ───────────────── + ──────────────────────\n",
              "       8⋅Γ(9/4)             16⋅Γ(9/4)       "
            ]
          },
          "metadata": {},
          "execution_count": 17
        }
      ]
    },
    {
      "cell_type": "code",
      "metadata": {
        "colab": {
          "base_uri": "https://localhost:8080/",
          "height": 37
        },
        "id": "kgn4Rtn8R3Ug",
        "outputId": "bc730825-e74d-4c3b-cc3f-2a81df82c4b0"
      },
      "source": [
        "g.evalf()"
      ],
      "execution_count": 18,
      "outputs": [
        {
          "output_type": "execute_result",
          "data": {
            "image/png": "[encoded data removed]",
            "text/latex": "$\\displaystyle -2.17227364646045$",
            "text/plain": [
              "-2.17227364646045"
            ]
          },
          "metadata": {},
          "execution_count": 18
        }
      ]
    },
    {
      "cell_type": "code",
      "metadata": {
        "colab": {
          "base_uri": "https://localhost:8080/",
          "height": 39
        },
        "id": "rL9nusM-SIwD",
        "outputId": "5d3eb440-e3b6-43d9-eafd-834b09005e4c"
      },
      "source": [
        "y = sp.Eq(x**3+15*x**2,3*x-10)\n",
        "y"
      ],
      "execution_count": 19,
      "outputs": [
        {
          "output_type": "execute_result",
          "data": {
            "image/png": "[encoded data removed]",
            "text/latex": "$\\displaystyle x^{3} + 15 x^{2} = 3 x - 10$",
            "text/plain": [
              " 3       2           \n",
              "x  + 15⋅x  = 3⋅x - 10"
            ]
          },
          "metadata": {},
          "execution_count": 19
        }
      ]
    },
    {
      "cell_type": "code",
      "metadata": {
        "colab": {
          "base_uri": "https://localhost:8080/",
          "height": 89
        },
        "id": "2uDft13BBoGm",
        "outputId": "cb43b31b-b84d-4edc-c67b-42a0a3b39699"
      },
      "source": [
        "z=sp.solve(y,x)\n",
        "z[0]"
      ],
      "execution_count": 20,
      "outputs": [
        {
          "output_type": "execute_result",
          "data": {
            "image/png": "[encoded data removed]",
            "text/latex": "$\\displaystyle -5 - \\frac{78}{\\left(- \\frac{1}{2} - \\frac{\\sqrt{3} i}{2}\\right) \\sqrt[3]{\\frac{27 \\sqrt{5321}}{2} + \\frac{7425}{2}}} - \\frac{\\left(- \\frac{1}{2} - \\frac{\\sqrt{3} i}{2}\\right) \\sqrt[3]{\\frac{27 \\sqrt{5321}}{2} + \\frac{7425}{2}}}{3}$",
            "text/plain": [
              "                                                           _________________\n",
              "                                          ⎛  1   √3⋅ⅈ⎞    ╱ 27⋅√5321   7425 \n",
              "                                          ⎜- ─ - ────⎟⋅3 ╱  ──────── + ──── \n",
              "                     78                   ⎝  2    2  ⎠ ╲╱      2        2   \n",
              "-5 - ────────────────────────────────── - ──────────────────────────────────\n",
              "                      _________________                   3                 \n",
              "     ⎛  1   √3⋅ⅈ⎞    ╱ 27⋅√5321   7425                                      \n",
              "     ⎜- ─ - ────⎟⋅3 ╱  ──────── + ────                                      \n",
              "     ⎝  2    2  ⎠ ╲╱      2        2                                        "
            ]
          },
          "metadata": {},
          "execution_count": 20
        }
      ]
    },
    {
      "cell_type": "code",
      "metadata": {
        "id": "RYM8N_gQSsie"
      },
      "source": [
        "x,y,z=sp.symbols('x,y,z')\n",
        "eq1 = sp.Eq(x+y+z,0)\n",
        "eq2 = sp.Eq(2*x-y-z,10)\n",
        "eq3 = sp.Eq(y+2*z,5)"
      ],
      "execution_count": 21,
      "outputs": []
    },
    {
      "cell_type": "code",
      "metadata": {
        "colab": {
          "base_uri": "https://localhost:8080/",
          "height": 39
        },
        "id": "5PQJ-x40BzBW",
        "outputId": "08dca9c9-20da-40bf-c4df-c215fade8fa3"
      },
      "source": [
        "eq1"
      ],
      "execution_count": 22,
      "outputs": [
        {
          "output_type": "execute_result",
          "data": {
            "image/png": "[encoded data removed]",
            "text/latex": "$\\displaystyle x + y + z = 0$",
            "text/plain": [
              "x + y + z = 0"
            ]
          },
          "metadata": {},
          "execution_count": 22
        }
      ]
    },
    {
      "cell_type": "code",
      "metadata": {
        "colab": {
          "base_uri": "https://localhost:8080/",
          "height": 39
        },
        "id": "WnZv_wtxB17b",
        "outputId": "4d7b822f-9e66-4ab9-8b2f-0c3b9054a7de"
      },
      "source": [
        "eq2"
      ],
      "execution_count": 23,
      "outputs": [
        {
          "output_type": "execute_result",
          "data": {
            "image/png": "[encoded data removed]",
            "text/latex": "$\\displaystyle 2 x - y - z = 10$",
            "text/plain": [
              "2⋅x - y - z = 10"
            ]
          },
          "metadata": {},
          "execution_count": 23
        }
      ]
    },
    {
      "cell_type": "code",
      "metadata": {
        "colab": {
          "base_uri": "https://localhost:8080/",
          "height": 39
        },
        "id": "duN7T3CuB2QL",
        "outputId": "9967af40-2d25-4db5-d4f5-ad3fc2f016ee"
      },
      "source": [
        "eq3"
      ],
      "execution_count": 24,
      "outputs": [
        {
          "output_type": "execute_result",
          "data": {
            "image/png": "[encoded data removed]",
            "text/latex": "$\\displaystyle y + 2 z = 5$",
            "text/plain": [
              "y + 2⋅z = 5"
            ]
          },
          "metadata": {},
          "execution_count": 24
        }
      ]
    },
    {
      "cell_type": "code",
      "metadata": {
        "colab": {
          "base_uri": "https://localhost:8080/",
          "height": 57
        },
        "id": "FELBn1pMBw2M",
        "outputId": "f79b1eed-83cf-4586-e265-c4d44b1b9353"
      },
      "source": [
        "sp.solve([eq1,eq2,eq3],[x,y,z])"
      ],
      "execution_count": 25,
      "outputs": [
        {
          "output_type": "execute_result",
          "data": {
            "image/png": "[encoded data removed]",
            "text/latex": "$\\displaystyle \\left\\{ x : \\frac{10}{3}, \\  y : - \\frac{35}{3}, \\  z : \\frac{25}{3}\\right\\}$",
            "text/plain": [
              "{x: 10/3, y: -35/3, z: 25/3}"
            ]
          },
          "metadata": {},
          "execution_count": 25
        }
      ]
    },
    {
      "cell_type": "code",
      "metadata": {
        "colab": {
          "base_uri": "https://localhost:8080/"
        },
        "id": "6qYR9lh1UWvJ",
        "outputId": "2039e8d1-a86f-4ac1-cc54-1c3e3db2e64c"
      },
      "source": [
        "A = sp.Matrix([[1,2,5],[3,4,6],[-1,0,3]])\n",
        "sp.pprint(A)"
      ],
      "execution_count": 26,
      "outputs": [
        {
          "output_type": "stream",
          "name": "stdout",
          "text": [
            "⎡1   2  5⎤\n",
            "⎢        ⎥\n",
            "⎢3   4  6⎥\n",
            "⎢        ⎥\n",
            "⎣-1  0  3⎦\n"
          ]
        }
      ]
    },
    {
      "cell_type": "code",
      "metadata": {
        "colab": {
          "base_uri": "https://localhost:8080/"
        },
        "id": "GoGaxP11U2l2",
        "outputId": "54ae53e8-1881-417e-f772-67a831872cf0"
      },
      "source": [
        "b = sp.Matrix([1,0,-2])\n",
        "sp.pprint(b)"
      ],
      "execution_count": 27,
      "outputs": [
        {
          "output_type": "stream",
          "name": "stdout",
          "text": [
            "⎡1 ⎤\n",
            "⎢  ⎥\n",
            "⎢0 ⎥\n",
            "⎢  ⎥\n",
            "⎣-2⎦\n"
          ]
        }
      ]
    },
    {
      "cell_type": "code",
      "metadata": {
        "colab": {
          "base_uri": "https://localhost:8080/"
        },
        "id": "DSBlzJ90U748",
        "outputId": "5b49d4ae-e3d1-45e9-df3c-0e8b3b0b6319"
      },
      "source": [
        "sp.pprint(A.inv()*b)\n",
        "sp.pprint(A.LUsolve(b))"
      ],
      "execution_count": 28,
      "outputs": [
        {
          "output_type": "stream",
          "name": "stdout",
          "text": [
            "⎡ 14  ⎤\n",
            "⎢     ⎥\n",
            "⎢-33/2⎥\n",
            "⎢     ⎥\n",
            "⎣  4  ⎦\n",
            "⎡ 14  ⎤\n",
            "⎢     ⎥\n",
            "⎢-33/2⎥\n",
            "⎢     ⎥\n",
            "⎣  4  ⎦\n"
          ]
        }
      ]
    },
    {
      "cell_type": "code",
      "metadata": {
        "colab": {
          "base_uri": "https://localhost:8080/"
        },
        "id": "C0yku3A6VOb7",
        "outputId": "c376b1ac-85b0-4e76-8411-5b7253b85e9a"
      },
      "source": [
        "sp.pprint(A)\n",
        "sp.pprint(A[1:2,1:2])\n",
        "sp.pprint(A[:,1:2])"
      ],
      "execution_count": 29,
      "outputs": [
        {
          "output_type": "stream",
          "name": "stdout",
          "text": [
            "⎡1   2  5⎤\n",
            "⎢        ⎥\n",
            "⎢3   4  6⎥\n",
            "⎢        ⎥\n",
            "⎣-1  0  3⎦\n",
            "[4]\n",
            "⎡2⎤\n",
            "⎢ ⎥\n",
            "⎢4⎥\n",
            "⎢ ⎥\n",
            "⎣0⎦\n"
          ]
        }
      ]
    },
    {
      "cell_type": "markdown",
      "metadata": {
        "id": "D47hKRi_MJZy"
      },
      "source": [
        "# **Visualização de Dados: Candle Sticks**"
      ]
    },
    {
      "cell_type": "markdown",
      "metadata": {
        "id": "fYvPijlbVuVc"
      },
      "source": [
        "**Ver o pacote:** https://github.com/matplotlib/mplfinance\n",
        "\n",
        "**Sugestão de leitura:** https://www.infomoney.com.br/onde-investir/confuso-entre-os-candlestick-conheca-os-principais-padroes-de-reversao/"
      ]
    },
    {
      "cell_type": "code",
      "metadata": {
        "colab": {
          "base_uri": "https://localhost:8080/"
        },
        "id": "I63hGKYqMQr-",
        "outputId": "8a5da9f4-46ab-4f50-bcd6-3a8be43303c1"
      },
      "source": [
        "pip install mplfinance"
      ],
      "execution_count": null,
      "outputs": [
        {
          "output_type": "stream",
          "name": "stdout",
          "text": [
            "Requirement already satisfied: mplfinance in /usr/local/lib/python3.7/dist-packages (0.12.7a17)\n",
            "Requirement already satisfied: matplotlib in /usr/local/lib/python3.7/dist-packages (from mplfinance) (3.2.2)\n",
            "Requirement already satisfied: pandas in /usr/local/lib/python3.7/dist-packages (from mplfinance) (1.1.5)\n",
            "Requirement already satisfied: pyparsing!=2.0.4,!=2.1.2,!=2.1.6,>=2.0.1 in /usr/local/lib/python3.7/dist-packages (from matplotlib->mplfinance) (3.0.6)\n",
            "Requirement already satisfied: cycler>=0.10 in /usr/local/lib/python3.7/dist-packages (from matplotlib->mplfinance) (0.11.0)\n",
            "Requirement already satisfied: python-dateutil>=2.1 in /usr/local/lib/python3.7/dist-packages (from matplotlib->mplfinance) (2.8.2)\n",
            "Requirement already satisfied: kiwisolver>=1.0.1 in /usr/local/lib/python3.7/dist-packages (from matplotlib->mplfinance) (1.3.2)\n",
            "Requirement already satisfied: numpy>=1.11 in /usr/local/lib/python3.7/dist-packages (from matplotlib->mplfinance) (1.19.5)\n",
            "Requirement already satisfied: six>=1.5 in /usr/local/lib/python3.7/dist-packages (from python-dateutil>=2.1->matplotlib->mplfinance) (1.15.0)\n",
            "Requirement already satisfied: pytz>=2017.2 in /usr/local/lib/python3.7/dist-packages (from pandas->mplfinance) (2018.9)\n"
          ]
        }
      ]
    },
    {
      "cell_type": "code",
      "metadata": {
        "colab": {
          "base_uri": "https://localhost:8080/"
        },
        "id": "Zi3ZowiWOv1I",
        "outputId": "12d0864f-cce3-43e4-b3fd-3070e79ec35d"
      },
      "source": [
        "!pip install yfinance --upgrade --no-cache-dir"
      ],
      "execution_count": null,
      "outputs": [
        {
          "output_type": "stream",
          "name": "stdout",
          "text": [
            "Requirement already satisfied: yfinance in /usr/local/lib/python3.7/dist-packages (0.1.67)\n",
            "Requirement already satisfied: pandas>=0.24 in /usr/local/lib/python3.7/dist-packages (from yfinance) (1.1.5)\n",
            "Requirement already satisfied: numpy>=1.15 in /usr/local/lib/python3.7/dist-packages (from yfinance) (1.19.5)\n",
            "Requirement already satisfied: lxml>=4.5.1 in /usr/local/lib/python3.7/dist-packages (from yfinance) (4.6.4)\n",
            "Requirement already satisfied: multitasking>=0.0.7 in /usr/local/lib/python3.7/dist-packages (from yfinance) (0.0.10)\n",
            "Requirement already satisfied: requests>=2.20 in /usr/local/lib/python3.7/dist-packages (from yfinance) (2.23.0)\n",
            "Requirement already satisfied: pytz>=2017.2 in /usr/local/lib/python3.7/dist-packages (from pandas>=0.24->yfinance) (2018.9)\n",
            "Requirement already satisfied: python-dateutil>=2.7.3 in /usr/local/lib/python3.7/dist-packages (from pandas>=0.24->yfinance) (2.8.2)\n",
            "Requirement already satisfied: six>=1.5 in /usr/local/lib/python3.7/dist-packages (from python-dateutil>=2.7.3->pandas>=0.24->yfinance) (1.15.0)\n",
            "Requirement already satisfied: idna<3,>=2.5 in /usr/local/lib/python3.7/dist-packages (from requests>=2.20->yfinance) (2.10)\n",
            "Requirement already satisfied: urllib3!=1.25.0,!=1.25.1,<1.26,>=1.21.1 in /usr/local/lib/python3.7/dist-packages (from requests>=2.20->yfinance) (1.24.3)\n",
            "Requirement already satisfied: chardet<4,>=3.0.2 in /usr/local/lib/python3.7/dist-packages (from requests>=2.20->yfinance) (3.0.4)\n",
            "Requirement already satisfied: certifi>=2017.4.17 in /usr/local/lib/python3.7/dist-packages (from requests>=2.20->yfinance) (2021.10.8)\n"
          ]
        }
      ]
    },
    {
      "cell_type": "code",
      "metadata": {
        "id": "tPy0SLCjMbF-"
      },
      "source": [
        "import pandas as pd\n",
        "import yfinance as yf #Instalando e importando a API no código\n",
        "import matplotlib.pyplot as plt\n",
        "import mplfinance as mpf"
      ],
      "execution_count": null,
      "outputs": []
    },
    {
      "cell_type": "code",
      "metadata": {
        "colab": {
          "base_uri": "https://localhost:8080/"
        },
        "id": "jf-4VCqubP5o",
        "outputId": "a065397a-0376-4bdf-902a-4141cfa01e0c"
      },
      "source": [
        "codigo = ['BTC-USD']\n",
        "#codigo = ['ABUD34.SA']\n",
        "df = yf.download(codigo[0], \n",
        "                 start='2021-09-01', \n",
        "                 end='2021-11-01',\n",
        "                 group_by=\"ticker\"); # \";\" serve para não exibir os dados"
      ],
      "execution_count": null,
      "outputs": [
        {
          "output_type": "stream",
          "name": "stdout",
          "text": [
            "\r[*********************100%***********************]  1 of 1 completed\n"
          ]
        }
      ]
    },
    {
      "cell_type": "code",
      "metadata": {
        "colab": {
          "base_uri": "https://localhost:8080/",
          "height": 237
        },
        "id": "JNEKNPQCbeMf",
        "outputId": "f0c124a6-1448-439e-f272-4f7cc4143927"
      },
      "source": [
        "df.head()"
      ],
      "execution_count": null,
      "outputs": [
        {
          "output_type": "execute_result",
          "data": {
            "text/html": [
              "<div>\n",
              "<style scoped>\n",
              "    .dataframe tbody tr th:only-of-type {\n",
              "        vertical-align: middle;\n",
              "    }\n",
              "\n",
              "    .dataframe tbody tr th {\n",
              "        vertical-align: top;\n",
              "    }\n",
              "\n",
              "    .dataframe thead th {\n",
              "        text-align: right;\n",
              "    }\n",
              "</style>\n",
              "<table border=\"1\" class=\"dataframe\">\n",
              "  <thead>\n",
              "    <tr style=\"text-align: right;\">\n",
              "      <th></th>\n",
              "      <th>Open</th>\n",
              "      <th>High</th>\n",
              "      <th>Low</th>\n",
              "      <th>Close</th>\n",
              "      <th>Adj Close</th>\n",
              "      <th>Volume</th>\n",
              "    </tr>\n",
              "    <tr>\n",
              "      <th>Date</th>\n",
              "      <th></th>\n",
              "      <th></th>\n",
              "      <th></th>\n",
              "      <th></th>\n",
              "      <th></th>\n",
              "      <th></th>\n",
              "    </tr>\n",
              "  </thead>\n",
              "  <tbody>\n",
              "    <tr>\n",
              "      <th>2021-09-01</th>\n",
              "      <td>47099.773438</td>\n",
              "      <td>49111.089844</td>\n",
              "      <td>46562.437500</td>\n",
              "      <td>48847.027344</td>\n",
              "      <td>48847.027344</td>\n",
              "      <td>39139399125</td>\n",
              "    </tr>\n",
              "    <tr>\n",
              "      <th>2021-09-02</th>\n",
              "      <td>48807.847656</td>\n",
              "      <td>50343.421875</td>\n",
              "      <td>48652.320312</td>\n",
              "      <td>49327.722656</td>\n",
              "      <td>49327.722656</td>\n",
              "      <td>39508070319</td>\n",
              "    </tr>\n",
              "    <tr>\n",
              "      <th>2021-09-03</th>\n",
              "      <td>49288.250000</td>\n",
              "      <td>50982.273438</td>\n",
              "      <td>48386.085938</td>\n",
              "      <td>50025.375000</td>\n",
              "      <td>50025.375000</td>\n",
              "      <td>43206179619</td>\n",
              "    </tr>\n",
              "    <tr>\n",
              "      <th>2021-09-04</th>\n",
              "      <td>50009.324219</td>\n",
              "      <td>50545.582031</td>\n",
              "      <td>49548.781250</td>\n",
              "      <td>49944.625000</td>\n",
              "      <td>49944.625000</td>\n",
              "      <td>37471327794</td>\n",
              "    </tr>\n",
              "    <tr>\n",
              "      <th>2021-09-05</th>\n",
              "      <td>49937.859375</td>\n",
              "      <td>51868.679688</td>\n",
              "      <td>49538.597656</td>\n",
              "      <td>51753.410156</td>\n",
              "      <td>51753.410156</td>\n",
              "      <td>30322676319</td>\n",
              "    </tr>\n",
              "  </tbody>\n",
              "</table>\n",
              "</div>"
            ],
            "text/plain": [
              "                    Open          High  ...     Adj Close       Volume\n",
              "Date                                    ...                           \n",
              "2021-09-01  47099.773438  49111.089844  ...  48847.027344  39139399125\n",
              "2021-09-02  48807.847656  50343.421875  ...  49327.722656  39508070319\n",
              "2021-09-03  49288.250000  50982.273438  ...  50025.375000  43206179619\n",
              "2021-09-04  50009.324219  50545.582031  ...  49944.625000  37471327794\n",
              "2021-09-05  49937.859375  51868.679688  ...  51753.410156  30322676319\n",
              "\n",
              "[5 rows x 6 columns]"
            ]
          },
          "metadata": {},
          "execution_count": 74
        }
      ]
    },
    {
      "cell_type": "code",
      "metadata": {
        "colab": {
          "base_uri": "https://localhost:8080/"
        },
        "id": "LLL7nd1pMxzY",
        "outputId": "ac8ecff3-3433-47f9-ad3a-e45ca3fae5e0"
      },
      "source": [
        "codigo = ['PETR4.SA']\n",
        "#codigo = ['ABUD34.SA']\n",
        "df = yf.download(codigo[0], \n",
        "                 start='2021-09-01', \n",
        "                 end='2021-11-01',\n",
        "                 group_by=\"ticker\"); # \";\" serve para não exibir os dados"
      ],
      "execution_count": null,
      "outputs": [
        {
          "output_type": "stream",
          "name": "stdout",
          "text": [
            "\r[*********************100%***********************]  1 of 1 completed\n"
          ]
        }
      ]
    },
    {
      "cell_type": "code",
      "metadata": {
        "colab": {
          "base_uri": "https://localhost:8080/",
          "height": 237
        },
        "id": "v6Bv6teXPVv4",
        "outputId": "2a9e7cb6-c179-4200-ca66-b5d0090ae9f1"
      },
      "source": [
        "df.head()"
      ],
      "execution_count": null,
      "outputs": [
        {
          "output_type": "execute_result",
          "data": {
            "text/html": [
              "<div>\n",
              "<style scoped>\n",
              "    .dataframe tbody tr th:only-of-type {\n",
              "        vertical-align: middle;\n",
              "    }\n",
              "\n",
              "    .dataframe tbody tr th {\n",
              "        vertical-align: top;\n",
              "    }\n",
              "\n",
              "    .dataframe thead th {\n",
              "        text-align: right;\n",
              "    }\n",
              "</style>\n",
              "<table border=\"1\" class=\"dataframe\">\n",
              "  <thead>\n",
              "    <tr style=\"text-align: right;\">\n",
              "      <th></th>\n",
              "      <th>Open</th>\n",
              "      <th>High</th>\n",
              "      <th>Low</th>\n",
              "      <th>Close</th>\n",
              "      <th>Adj Close</th>\n",
              "      <th>Volume</th>\n",
              "    </tr>\n",
              "    <tr>\n",
              "      <th>Date</th>\n",
              "      <th></th>\n",
              "      <th></th>\n",
              "      <th></th>\n",
              "      <th></th>\n",
              "      <th></th>\n",
              "      <th></th>\n",
              "    </tr>\n",
              "  </thead>\n",
              "  <tbody>\n",
              "    <tr>\n",
              "      <th>2021-09-01</th>\n",
              "      <td>27.320000</td>\n",
              "      <td>27.340000</td>\n",
              "      <td>26.330000</td>\n",
              "      <td>27.040001</td>\n",
              "      <td>27.040001</td>\n",
              "      <td>69430400</td>\n",
              "    </tr>\n",
              "    <tr>\n",
              "      <th>2021-09-02</th>\n",
              "      <td>27.000000</td>\n",
              "      <td>27.350000</td>\n",
              "      <td>26.459999</td>\n",
              "      <td>26.600000</td>\n",
              "      <td>26.600000</td>\n",
              "      <td>56052000</td>\n",
              "    </tr>\n",
              "    <tr>\n",
              "      <th>2021-09-03</th>\n",
              "      <td>26.650000</td>\n",
              "      <td>26.780001</td>\n",
              "      <td>26.100000</td>\n",
              "      <td>26.330000</td>\n",
              "      <td>26.330000</td>\n",
              "      <td>58182700</td>\n",
              "    </tr>\n",
              "    <tr>\n",
              "      <th>2021-09-06</th>\n",
              "      <td>26.209999</td>\n",
              "      <td>26.709999</td>\n",
              "      <td>26.150000</td>\n",
              "      <td>26.459999</td>\n",
              "      <td>26.459999</td>\n",
              "      <td>26770700</td>\n",
              "    </tr>\n",
              "    <tr>\n",
              "      <th>2021-09-08</th>\n",
              "      <td>26.290001</td>\n",
              "      <td>26.350000</td>\n",
              "      <td>24.790001</td>\n",
              "      <td>24.969999</td>\n",
              "      <td>24.969999</td>\n",
              "      <td>80378400</td>\n",
              "    </tr>\n",
              "  </tbody>\n",
              "</table>\n",
              "</div>"
            ],
            "text/plain": [
              "                 Open       High        Low      Close  Adj Close    Volume\n",
              "Date                                                                       \n",
              "2021-09-01  27.320000  27.340000  26.330000  27.040001  27.040001  69430400\n",
              "2021-09-02  27.000000  27.350000  26.459999  26.600000  26.600000  56052000\n",
              "2021-09-03  26.650000  26.780001  26.100000  26.330000  26.330000  58182700\n",
              "2021-09-06  26.209999  26.709999  26.150000  26.459999  26.459999  26770700\n",
              "2021-09-08  26.290001  26.350000  24.790001  24.969999  24.969999  80378400"
            ]
          },
          "metadata": {},
          "execution_count": 53
        }
      ]
    },
    {
      "cell_type": "code",
      "metadata": {
        "colab": {
          "base_uri": "https://localhost:8080/",
          "height": 265
        },
        "id": "-64-ZWpPPbo_",
        "outputId": "27e2053c-b300-423d-830a-2c5a0cce791c"
      },
      "source": [
        "plt.plot(df[\"Close\"])\n",
        "plt.show()"
      ],
      "execution_count": null,
      "outputs": [
        {
          "output_type": "display_data",
          "data": {
            "image/png": "[encoded data removed]",
            "text/plain": [
              "<Figure size 432x288 with 1 Axes>"
            ]
          },
          "metadata": {
            "needs_background": "light"
          }
        }
      ]
    },
    {
      "cell_type": "code",
      "metadata": {
        "colab": {
          "base_uri": "https://localhost:8080/",
          "height": 493
        },
        "id": "RSlBZ88IQXM3",
        "outputId": "099b72ee-fe65-4eae-9b6a-928f38f3f8d4"
      },
      "source": [
        "mpf.plot(df, type=\"candle\", volume=True, style=\"yahoo\")"
      ],
      "execution_count": null,
      "outputs": [
        {
          "output_type": "display_data",
          "data": {
            "image/png": "[encoded data removed]",
            "text/plain": [
              "<Figure size 800x575 with 4 Axes>"
            ]
          },
          "metadata": {}
        }
      ]
    }
  ]
}