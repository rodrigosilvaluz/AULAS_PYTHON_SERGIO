{
  "nbformat": 4,
  "nbformat_minor": 0,
  "metadata": {
    "colab": {
      "name": "Aula 05 - Pos_Ciencia_De_Dados.ipynb",
      "provenance": [],
      "collapsed_sections": [
        "o2MhEwD827c4",
        "Sput-5iF23nS",
        "_YfCka77BP-N"
      ]
    },
    "kernelspec": {
      "name": "python3",
      "display_name": "Python 3"
    },
    "language_info": {
      "name": "python"
    }
  },
  "cells": [
    {
      "cell_type": "markdown",
      "metadata": {
        "id": "-HliM7bt2nUN"
      },
      "source": [
        "# **Turma de Pós-Graduação de Ciência de Dados**\n",
        "\n",
        "**Disciplina: Linguagem de Programação Python**\n",
        "\n",
        "**prof: Sérgio Assunção Monteiro, DSc**"
      ]
    },
    {
      "cell_type": "markdown",
      "metadata": {
        "id": "dTfydFyz2pUM"
      },
      "source": [
        "**Aula 05**"
      ]
    },
    {
      "cell_type": "markdown",
      "metadata": {
        "id": "o2MhEwD827c4"
      },
      "source": [
        "#**Regressão Linear**"
      ]
    },
    {
      "cell_type": "code",
      "metadata": {
        "colab": {
          "base_uri": "https://localhost:8080/",
          "height": 283
        },
        "id": "DNGIszb72hAC",
        "outputId": "fc3c3441-3363-46ee-f085-91f8b5605c1a"
      },
      "source": [
        "import matplotlib.pyplot as plt\n",
        "from scipy import stats\n",
        "\n",
        "def gerar_dados_l01():\n",
        "  x = [5,7,8,7,2,17,2,9,4,11,12,9,6]\n",
        "  y = [99,86,87,88,111,86,103,87,94,78,77,85,86]\n",
        "  return x, y\n",
        "\n",
        "def f_regressao_linear(x, y):  #f(x) = coef_angular * x + coef_linear\n",
        "  coef_angular, coef_linear, r, p, std_err = stats.linregress(x, y)\n",
        "  return coef_angular, coef_linear\n",
        "\n",
        "def funcao_linear(x, coeficiente_angular, coeficiente_linear): \n",
        "  f = coeficiente_angular * x + coeficiente_linear\n",
        "  return f\n",
        "\n",
        "x, y = gerar_dados_l01()\n",
        "\n",
        "coef_angular, coef_linear = f_regressao_linear(x, y)\n",
        "\n",
        "regressao_linear = []\n",
        "for w in x:\n",
        "  f = funcao_linear(w, coef_angular, coef_linear)\n",
        "  regressao_linear.append(f)\n",
        "\n",
        "plt.scatter(x, y, color = 'red')\n",
        "plt.plot(x, regressao_linear, color = 'blue')\n",
        "plt.show()\n",
        "#print(regressao_linear)\n",
        "\n",
        "f = funcao_linear(9, coef_angular, coef_linear)\n",
        "print('f(9)={}'.format(f))"
      ],
      "execution_count": null,
      "outputs": [
        {
          "output_type": "display_data",
          "data": {
            "image/png": "[encoded data removed]",
            "text/plain": [
              "<Figure size 432x288 with 1 Axes>"
            ]
          },
          "metadata": {
            "needs_background": "light"
          }
        },
        {
          "output_type": "stream",
          "name": "stdout",
          "text": [
            "f(9)=87.34437086092716\n"
          ]
        }
      ]
    },
    {
      "cell_type": "markdown",
      "metadata": {
        "id": "Sput-5iF23nS"
      },
      "source": [
        "#**Regressão Polinomial**"
      ]
    },
    {
      "cell_type": "code",
      "metadata": {
        "colab": {
          "base_uri": "https://localhost:8080/",
          "height": 282
        },
        "id": "rvisCech24PL",
        "outputId": "19d3d4be-e628-4fb7-a766-7032ed045c87"
      },
      "source": [
        "import numpy as np\n",
        "import matplotlib.pyplot as plt\n",
        "from sklearn.metrics import r2_score\n",
        "\n",
        "def gerar_dados_p01():\n",
        "  x = [1,2,3,5,6,7,8,9,10,12,13,14,15,16,18,19,21,22] #data\n",
        "  y = [100,90,80,60,60,55,60,65,70,70,75,76,78,79,90,99,99,100]\n",
        "  return x, y\n",
        "\n",
        "def f_regressao_polinomial(x, y):\n",
        "  modelo = np.poly1d(np.polyfit(x, y, 3))\n",
        "  return modelo\n",
        "\n",
        "x, y = gerar_dados_p01()\n",
        "\n",
        "modelo = f_regressao_polinomial(x, y)\n",
        "\n",
        "linha = np.linspace(1, 22, 100)\n",
        "\n",
        "plt.scatter(x, y, color='red')\n",
        "plt.plot(x, y, color='green')\n",
        "plt.plot(linha, modelo(linha), color='blue')\n",
        "plt.show()\n",
        "erro=r2_score(y, modelo(x))\n",
        "print('Erro de aproximação: {}'.format(erro))"
      ],
      "execution_count": null,
      "outputs": [
        {
          "output_type": "display_data",
          "data": {
            "image/png": "[encoded data removed]",
            "text/plain": [
              "<Figure size 432x288 with 1 Axes>"
            ]
          },
          "metadata": {
            "needs_background": "light"
          }
        },
        {
          "output_type": "stream",
          "name": "stdout",
          "text": [
            "Erro de aproximação: 0.9432150416451026\n"
          ]
        }
      ]
    },
    {
      "cell_type": "code",
      "metadata": {
        "colab": {
          "base_uri": "https://localhost:8080/"
        },
        "id": "iNpztbmWfYCD",
        "outputId": "56305f11-b9aa-43df-cd73-1e90573627ca"
      },
      "source": [
        "print(modelo(22))\n",
        "print(modelo(23))\n",
        "print(modelo(24))\n",
        "print(modelo(25))"
      ],
      "execution_count": null,
      "outputs": [
        {
          "output_type": "stream",
          "name": "stdout",
          "text": [
            "99.24127229005046\n",
            "98.09548850249544\n",
            "95.4520871661491\n",
            "91.12914300383954\n"
          ]
        }
      ]
    },
    {
      "cell_type": "markdown",
      "metadata": {
        "id": "_YfCka77BP-N"
      },
      "source": [
        "#**Árvore de Decisão**"
      ]
    },
    {
      "cell_type": "markdown",
      "metadata": {
        "id": "IfiV2CU7DWy8"
      },
      "source": [
        "**exemplo 01**"
      ]
    },
    {
      "cell_type": "code",
      "metadata": {
        "id": "SFQSWD85DIuh"
      },
      "source": [
        "import pydotplus\n",
        "from sklearn.datasets import load_iris\n",
        "from sklearn import tree\n",
        "import collections\n",
        "\n",
        "# Dados\n",
        "X = [ [180, 15, 0],     \n",
        "      [177, 42, 0],\n",
        "      [136, 35, 1],\n",
        "      [174, 65, 0],\n",
        "      [141, 28, 1]]\n",
        "\n",
        "Y = ['homem', \n",
        "     'mulher', \n",
        "     'mulher', \n",
        "     'homem', \n",
        "     'mulher']    \n",
        "\n",
        "nomes_das_caracteristicas = ['altura', \n",
        "                             'comprimento do cabelo', \n",
        "                             'tom de voz' ]"
      ],
      "execution_count": null,
      "outputs": []
    },
    {
      "cell_type": "code",
      "metadata": {
        "id": "pwgXEqCSGWSs"
      },
      "source": [
        "# Training\n",
        "clf = tree.DecisionTreeClassifier()\n",
        "clf = clf.fit(X,Y)"
      ],
      "execution_count": null,
      "outputs": []
    },
    {
      "cell_type": "code",
      "metadata": {
        "colab": {
          "base_uri": "https://localhost:8080/",
          "height": 518
        },
        "id": "TdDmoo0AGtSD",
        "outputId": "e309bf1b-fbdc-415a-c3d2-15aaa47d922a"
      },
      "source": [
        "# Visualize data\n",
        "dot_data = tree.export_graphviz(clf,\n",
        "                                feature_names=nomes_das_caracteristicas,\n",
        "                                out_file=None,\n",
        "                                filled=True,\n",
        "                                rounded=True)\n",
        "\n",
        "grafico = graphviz.Source(dot_data)  \n",
        "grafico"
      ],
      "execution_count": null,
      "outputs": [
        {
          "output_type": "execute_result",
          "data": {
            "text/plain": [
              "<graphviz.files.Source at 0x7fe270a33f90>"
            ],
            "image/svg+xml": "<?xml version=\"1.0\" encoding=\"UTF-8\" standalone=\"no\"?>\n<!DOCTYPE svg PUBLIC \"-//W3C//DTD SVG 1.1//EN\"\n \"http://www.w3.org/Graphics/SVG/1.1/DTD/svg11.dtd\">\n<!-- Generated by graphviz version 2.40.1 (20161225.0304)\n -->\n<!-- Title: Tree Pages: 1 -->\n<svg width=\"381pt\" height=\"373pt\"\n viewBox=\"0.00 0.00 381.00 373.00\" xmlns=\"http://www.w3.org/2000/svg\" xmlns:xlink=\"http://www.w3.org/1999/xlink\">\n<g id=\"graph0\" class=\"graph\" transform=\"scale(1 1) rotate(0) translate(4 369)\">\n<title>Tree</title>\n<polygon fill=\"#ffffff\" stroke=\"transparent\" points=\"-4,4 -4,-369 377,-369 377,4 -4,4\"/>\n<!-- 0 -->\n<g id=\"node1\" class=\"node\">\n<title>0</title>\n<path fill=\"#bddef6\" stroke=\"#000000\" d=\"M156,-365C156,-365 67,-365 67,-365 61,-365 55,-359 55,-353 55,-353 55,-309 55,-309 55,-303 61,-297 67,-297 67,-297 156,-297 156,-297 162,-297 168,-303 168,-309 168,-309 168,-353 168,-353 168,-359 162,-365 156,-365\"/>\n<text text-anchor=\"middle\" x=\"111.5\" y=\"-349.8\" font-family=\"Helvetica,sans-Serif\" font-size=\"14.00\" fill=\"#000000\">altura &lt;= 157.5</text>\n<text text-anchor=\"middle\" x=\"111.5\" y=\"-334.8\" font-family=\"Helvetica,sans-Serif\" font-size=\"14.00\" fill=\"#000000\">gini = 0.48</text>\n<text text-anchor=\"middle\" x=\"111.5\" y=\"-319.8\" font-family=\"Helvetica,sans-Serif\" font-size=\"14.00\" fill=\"#000000\">samples = 5</text>\n<text text-anchor=\"middle\" x=\"111.5\" y=\"-304.8\" font-family=\"Helvetica,sans-Serif\" font-size=\"14.00\" fill=\"#000000\">value = [2, 3]</text>\n</g>\n<!-- 1 -->\n<g id=\"node2\" class=\"node\">\n<title>1</title>\n<path fill=\"#399de5\" stroke=\"#000000\" d=\"M87,-253.5C87,-253.5 12,-253.5 12,-253.5 6,-253.5 0,-247.5 0,-241.5 0,-241.5 0,-212.5 0,-212.5 0,-206.5 6,-200.5 12,-200.5 12,-200.5 87,-200.5 87,-200.5 93,-200.5 99,-206.5 99,-212.5 99,-212.5 99,-241.5 99,-241.5 99,-247.5 93,-253.5 87,-253.5\"/>\n<text text-anchor=\"middle\" x=\"49.5\" y=\"-238.3\" font-family=\"Helvetica,sans-Serif\" font-size=\"14.00\" fill=\"#000000\">gini = 0.0</text>\n<text text-anchor=\"middle\" x=\"49.5\" y=\"-223.3\" font-family=\"Helvetica,sans-Serif\" font-size=\"14.00\" fill=\"#000000\">samples = 2</text>\n<text text-anchor=\"middle\" x=\"49.5\" y=\"-208.3\" font-family=\"Helvetica,sans-Serif\" font-size=\"14.00\" fill=\"#000000\">value = [0, 2]</text>\n</g>\n<!-- 0&#45;&gt;1 -->\n<g id=\"edge1\" class=\"edge\">\n<title>0&#45;&gt;1</title>\n<path fill=\"none\" stroke=\"#000000\" d=\"M91.1989,-296.9465C84.5666,-285.8215 77.1897,-273.4473 70.5067,-262.237\"/>\n<polygon fill=\"#000000\" stroke=\"#000000\" points=\"73.4502,-260.3394 65.3232,-253.5422 67.4376,-263.9239 73.4502,-260.3394\"/>\n<text text-anchor=\"middle\" x=\"59.1911\" y=\"-274.0785\" font-family=\"Helvetica,sans-Serif\" font-size=\"14.00\" fill=\"#000000\">True</text>\n</g>\n<!-- 2 -->\n<g id=\"node3\" class=\"node\">\n<title>2</title>\n<path fill=\"#f2c09c\" stroke=\"#000000\" d=\"M218,-261C218,-261 129,-261 129,-261 123,-261 117,-255 117,-249 117,-249 117,-205 117,-205 117,-199 123,-193 129,-193 129,-193 218,-193 218,-193 224,-193 230,-199 230,-205 230,-205 230,-249 230,-249 230,-255 224,-261 218,-261\"/>\n<text text-anchor=\"middle\" x=\"173.5\" y=\"-245.8\" font-family=\"Helvetica,sans-Serif\" font-size=\"14.00\" fill=\"#000000\">altura &lt;= 175.5</text>\n<text text-anchor=\"middle\" x=\"173.5\" y=\"-230.8\" font-family=\"Helvetica,sans-Serif\" font-size=\"14.00\" fill=\"#000000\">gini = 0.444</text>\n<text text-anchor=\"middle\" x=\"173.5\" y=\"-215.8\" font-family=\"Helvetica,sans-Serif\" font-size=\"14.00\" fill=\"#000000\">samples = 3</text>\n<text text-anchor=\"middle\" x=\"173.5\" y=\"-200.8\" font-family=\"Helvetica,sans-Serif\" font-size=\"14.00\" fill=\"#000000\">value = [2, 1]</text>\n</g>\n<!-- 0&#45;&gt;2 -->\n<g id=\"edge2\" class=\"edge\">\n<title>0&#45;&gt;2</title>\n<path fill=\"none\" stroke=\"#000000\" d=\"M131.8011,-296.9465C136.9396,-288.3271 142.5251,-278.9579 147.8886,-269.9611\"/>\n<polygon fill=\"#000000\" stroke=\"#000000\" points=\"151.0389,-271.5117 153.1533,-261.13 145.0263,-267.9272 151.0389,-271.5117\"/>\n<text text-anchor=\"middle\" x=\"159.2853\" y=\"-281.6663\" font-family=\"Helvetica,sans-Serif\" font-size=\"14.00\" fill=\"#000000\">False</text>\n</g>\n<!-- 3 -->\n<g id=\"node4\" class=\"node\">\n<title>3</title>\n<path fill=\"#e58139\" stroke=\"#000000\" d=\"M122,-149.5C122,-149.5 47,-149.5 47,-149.5 41,-149.5 35,-143.5 35,-137.5 35,-137.5 35,-108.5 35,-108.5 35,-102.5 41,-96.5 47,-96.5 47,-96.5 122,-96.5 122,-96.5 128,-96.5 134,-102.5 134,-108.5 134,-108.5 134,-137.5 134,-137.5 134,-143.5 128,-149.5 122,-149.5\"/>\n<text text-anchor=\"middle\" x=\"84.5\" y=\"-134.3\" font-family=\"Helvetica,sans-Serif\" font-size=\"14.00\" fill=\"#000000\">gini = 0.0</text>\n<text text-anchor=\"middle\" x=\"84.5\" y=\"-119.3\" font-family=\"Helvetica,sans-Serif\" font-size=\"14.00\" fill=\"#000000\">samples = 1</text>\n<text text-anchor=\"middle\" x=\"84.5\" y=\"-104.3\" font-family=\"Helvetica,sans-Serif\" font-size=\"14.00\" fill=\"#000000\">value = [1, 0]</text>\n</g>\n<!-- 2&#45;&gt;3 -->\n<g id=\"edge3\" class=\"edge\">\n<title>2&#45;&gt;3</title>\n<path fill=\"none\" stroke=\"#000000\" d=\"M144.3581,-192.9465C134.5548,-181.491 123.6181,-168.711 113.8025,-157.2412\"/>\n<polygon fill=\"#000000\" stroke=\"#000000\" points=\"116.3751,-154.8642 107.214,-149.5422 111.0567,-159.4156 116.3751,-154.8642\"/>\n</g>\n<!-- 4 -->\n<g id=\"node5\" class=\"node\">\n<title>4</title>\n<path fill=\"#ffffff\" stroke=\"#000000\" d=\"M361,-157C361,-157 164,-157 164,-157 158,-157 152,-151 152,-145 152,-145 152,-101 152,-101 152,-95 158,-89 164,-89 164,-89 361,-89 361,-89 367,-89 373,-95 373,-101 373,-101 373,-145 373,-145 373,-151 367,-157 361,-157\"/>\n<text text-anchor=\"middle\" x=\"262.5\" y=\"-141.8\" font-family=\"Helvetica,sans-Serif\" font-size=\"14.00\" fill=\"#000000\">comprimento do cabelo &lt;= 28.5</text>\n<text text-anchor=\"middle\" x=\"262.5\" y=\"-126.8\" font-family=\"Helvetica,sans-Serif\" font-size=\"14.00\" fill=\"#000000\">gini = 0.5</text>\n<text text-anchor=\"middle\" x=\"262.5\" y=\"-111.8\" font-family=\"Helvetica,sans-Serif\" font-size=\"14.00\" fill=\"#000000\">samples = 2</text>\n<text text-anchor=\"middle\" x=\"262.5\" y=\"-96.8\" font-family=\"Helvetica,sans-Serif\" font-size=\"14.00\" fill=\"#000000\">value = [1, 1]</text>\n</g>\n<!-- 2&#45;&gt;4 -->\n<g id=\"edge4\" class=\"edge\">\n<title>2&#45;&gt;4</title>\n<path fill=\"none\" stroke=\"#000000\" d=\"M202.6419,-192.9465C210.3255,-183.968 218.7053,-174.1758 226.6959,-164.8385\"/>\n<polygon fill=\"#000000\" stroke=\"#000000\" points=\"229.4499,-167.0034 233.2926,-157.13 224.1315,-162.4521 229.4499,-167.0034\"/>\n</g>\n<!-- 5 -->\n<g id=\"node6\" class=\"node\">\n<title>5</title>\n<path fill=\"#e58139\" stroke=\"#000000\" d=\"M241,-53C241,-53 166,-53 166,-53 160,-53 154,-47 154,-41 154,-41 154,-12 154,-12 154,-6 160,0 166,0 166,0 241,0 241,0 247,0 253,-6 253,-12 253,-12 253,-41 253,-41 253,-47 247,-53 241,-53\"/>\n<text text-anchor=\"middle\" x=\"203.5\" y=\"-37.8\" font-family=\"Helvetica,sans-Serif\" font-size=\"14.00\" fill=\"#000000\">gini = 0.0</text>\n<text text-anchor=\"middle\" x=\"203.5\" y=\"-22.8\" font-family=\"Helvetica,sans-Serif\" font-size=\"14.00\" fill=\"#000000\">samples = 1</text>\n<text text-anchor=\"middle\" x=\"203.5\" y=\"-7.8\" font-family=\"Helvetica,sans-Serif\" font-size=\"14.00\" fill=\"#000000\">value = [1, 0]</text>\n</g>\n<!-- 4&#45;&gt;5 -->\n<g id=\"edge5\" class=\"edge\">\n<title>4&#45;&gt;5</title>\n<path fill=\"none\" stroke=\"#000000\" d=\"M241.6988,-88.9777C236.3242,-80.187 230.5265,-70.7044 225.1115,-61.8477\"/>\n<polygon fill=\"#000000\" stroke=\"#000000\" points=\"228.0564,-59.9545 219.854,-53.2485 222.0842,-63.6059 228.0564,-59.9545\"/>\n</g>\n<!-- 6 -->\n<g id=\"node7\" class=\"node\">\n<title>6</title>\n<path fill=\"#399de5\" stroke=\"#000000\" d=\"M358,-53C358,-53 283,-53 283,-53 277,-53 271,-47 271,-41 271,-41 271,-12 271,-12 271,-6 277,0 283,0 283,0 358,0 358,0 364,0 370,-6 370,-12 370,-12 370,-41 370,-41 370,-47 364,-53 358,-53\"/>\n<text text-anchor=\"middle\" x=\"320.5\" y=\"-37.8\" font-family=\"Helvetica,sans-Serif\" font-size=\"14.00\" fill=\"#000000\">gini = 0.0</text>\n<text text-anchor=\"middle\" x=\"320.5\" y=\"-22.8\" font-family=\"Helvetica,sans-Serif\" font-size=\"14.00\" fill=\"#000000\">samples = 1</text>\n<text text-anchor=\"middle\" x=\"320.5\" y=\"-7.8\" font-family=\"Helvetica,sans-Serif\" font-size=\"14.00\" fill=\"#000000\">value = [0, 1]</text>\n</g>\n<!-- 4&#45;&gt;6 -->\n<g id=\"edge6\" class=\"edge\">\n<title>4&#45;&gt;6</title>\n<path fill=\"none\" stroke=\"#000000\" d=\"M282.9486,-88.9777C288.2322,-80.187 293.9316,-70.7044 299.2548,-61.8477\"/>\n<polygon fill=\"#000000\" stroke=\"#000000\" points=\"302.2715,-63.6225 304.4232,-53.2485 296.2718,-60.0165 302.2715,-63.6225\"/>\n</g>\n</g>\n</svg>\n"
          },
          "metadata": {},
          "execution_count": 46
        }
      ]
    },
    {
      "cell_type": "code",
      "metadata": {
        "colab": {
          "base_uri": "https://localhost:8080/"
        },
        "id": "d9ydDAS0LkMW",
        "outputId": "66072c64-b626-427e-b09f-05f8bd39ba49"
      },
      "source": [
        "#Teste da árvore\n",
        "X_test = [[180, 15, 0]]\n",
        "y_pred = clf.predict(X_test)\n",
        "y_pred"
      ],
      "execution_count": null,
      "outputs": [
        {
          "output_type": "execute_result",
          "data": {
            "text/plain": [
              "array(['homem'], dtype='<U6')"
            ]
          },
          "metadata": {},
          "execution_count": 51
        }
      ]
    },
    {
      "cell_type": "code",
      "metadata": {
        "colab": {
          "base_uri": "https://localhost:8080/"
        },
        "id": "9LokRGl9L5yU",
        "outputId": "2c83fcff-b12c-480a-a252-583ae43a8f26"
      },
      "source": [
        "#Teste da árvore\n",
        "X_test = [[180, 30, 1]]\n",
        "y_pred = clf.predict(X_test)\n",
        "y_pred"
      ],
      "execution_count": null,
      "outputs": [
        {
          "output_type": "execute_result",
          "data": {
            "text/plain": [
              "array(['mulher'], dtype='<U6')"
            ]
          },
          "metadata": {},
          "execution_count": 54
        }
      ]
    }
  ]
}