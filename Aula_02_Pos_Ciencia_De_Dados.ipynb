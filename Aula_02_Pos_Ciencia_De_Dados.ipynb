{
  "nbformat": 4,
  "nbformat_minor": 0,
  "metadata": {
    "colab": {
      "name": "Aula 02 - Pos_Ciencia_De_Dados.ipynb",
      "provenance": [],
      "collapsed_sections": [
        "cRCVb7zmGNJs",
        "xW3dVSqhGQ4y",
        "wr5sYuVjpeRz",
        "PJsiMznDFHnU",
        "hzsi4Hj_p1uA",
        "hooGauJm--1o"
      ]
    },
    "kernelspec": {
      "name": "python3",
      "display_name": "Python 3"
    },
    "language_info": {
      "name": "python"
    }
  },
  "cells": [
    {
      "cell_type": "markdown",
      "metadata": {
        "id": "cRCVb7zmGNJs"
      },
      "source": [
        "# **Turma de Pós-Graduação de Ciência de Dados**\n",
        "\n",
        "**Disciplina: Linguagem de Programação Python**\n",
        "\n",
        "**prof: Sérgio Assunção Monteiro, DSc**"
      ]
    },
    {
      "cell_type": "markdown",
      "metadata": {
        "id": "xW3dVSqhGQ4y"
      },
      "source": [
        "# **Aula 02**"
      ]
    },
    {
      "cell_type": "markdown",
      "metadata": {
        "id": "wr5sYuVjpeRz"
      },
      "source": [
        "# **Solução do Exercício da Aula 01**"
      ]
    },
    {
      "cell_type": "code",
      "metadata": {
        "id": "f4Ssxier4w5-"
      },
      "source": [
        "x = [1, 5, 7, -1, 5] \n",
        "soma = 6"
      ],
      "execution_count": null,
      "outputs": []
    },
    {
      "cell_type": "code",
      "metadata": {
        "id": "vlKBdkLNpj6J"
      },
      "source": [
        "n = len(x)\n",
        "lista_pares = []\n",
        "for i in range(n):\n",
        "  for j in range(i + 1, n):\n",
        "    if x[i] + x[j] == soma:\n",
        "      par=(x[i],x[j])\n",
        "      lista_pares.append(par)"
      ],
      "execution_count": null,
      "outputs": []
    },
    {
      "cell_type": "code",
      "metadata": {
        "colab": {
          "base_uri": "https://localhost:8080/"
        },
        "id": "qZ8IIRpu5F3k",
        "outputId": "935c4c23-068d-4e6b-e636-abc7af667a02"
      },
      "source": [
        "print(\"pares:[{}]\".format(lista_pares))"
      ],
      "execution_count": null,
      "outputs": [
        {
          "output_type": "stream",
          "name": "stdout",
          "text": [
            "pares:[[(1, 5), (1, 5), (7, -1)]]\n"
          ]
        }
      ]
    },
    {
      "cell_type": "markdown",
      "metadata": {
        "id": "PJsiMznDFHnU"
      },
      "source": [
        "# **Funções**"
      ]
    },
    {
      "cell_type": "markdown",
      "metadata": {
        "id": "cSMXk_syFNVb"
      },
      "source": [
        "**Exemplos**"
      ]
    },
    {
      "cell_type": "code",
      "metadata": {
        "id": "bfkWjt-PFRuK"
      },
      "source": [
        "def funcao_somatorio_impares(lista):\n",
        "  soma_impar = 0\n",
        "  for elem in lista:\n",
        "    if(elem % 2 == 1):\n",
        "      soma_impar = soma_impar + elem            \n",
        "  return soma_impar"
      ],
      "execution_count": null,
      "outputs": []
    },
    {
      "cell_type": "code",
      "metadata": {
        "id": "FrxenjsbFXmT",
        "colab": {
          "base_uri": "https://localhost:8080/"
        },
        "outputId": "ec93dc17-1eba-4399-919f-950586e0e791"
      },
      "source": [
        "lista_teste = [1,2,3,4,5]\n",
        "somat = funcao_somatorio_impares(lista_teste)\n",
        "print(\"O somatório dos elementos ímpares da lista é:[{}]\".format(somat))"
      ],
      "execution_count": null,
      "outputs": [
        {
          "output_type": "stream",
          "name": "stdout",
          "text": [
            "O somatório dos elementos ímpares da lista é:[9]\n"
          ]
        }
      ]
    },
    {
      "cell_type": "markdown",
      "metadata": {
        "id": "cOpRndtX7bCy"
      },
      "source": [
        "**outro exemplo ...**"
      ]
    },
    {
      "cell_type": "code",
      "metadata": {
        "id": "bMXMRXyV7t-g"
      },
      "source": [
        "def obter_total_pares(lista, soma):\n",
        "  n = len(lista)\n",
        "  lista_pares = []\n",
        "  for i in range(n):\n",
        "    for j in range(i + 1, n):\n",
        "      if x[i] + x[j] == soma:\n",
        "        par=(x[i],x[j])\n",
        "        lista_pares.append(par)\n",
        "  return lista_pares"
      ],
      "execution_count": null,
      "outputs": []
    },
    {
      "cell_type": "code",
      "metadata": {
        "colab": {
          "base_uri": "https://localhost:8080/"
        },
        "id": "qSz9CO6f7_R5",
        "outputId": "2f0d0f2a-718c-4df3-fe90-176f4d7b64e6"
      },
      "source": [
        "# Chamada para função \n",
        "x = [1, 5, 7, -1, 5] \n",
        "soma = 6\n",
        "lista_pares=obter_total_pares(x, soma)\n",
        "print(\"pares:{}\".format(lista_pares))"
      ],
      "execution_count": null,
      "outputs": [
        {
          "output_type": "stream",
          "name": "stdout",
          "text": [
            "pares:[(1, 5), (1, 5), (7, -1)]\n"
          ]
        }
      ]
    },
    {
      "cell_type": "markdown",
      "metadata": {
        "id": "hzsi4Hj_p1uA"
      },
      "source": [
        "## **Package Numpy**"
      ]
    },
    {
      "cell_type": "code",
      "metadata": {
        "colab": {
          "base_uri": "https://localhost:8080/"
        },
        "id": "7wwKK9Us82Io",
        "outputId": "0ef35e9c-50bc-4c15-a731-c5160e97f5a0"
      },
      "source": [
        "!pip install numpy"
      ],
      "execution_count": null,
      "outputs": [
        {
          "output_type": "stream",
          "name": "stdout",
          "text": [
            "Requirement already satisfied: numpy in /usr/local/lib/python3.7/dist-packages (1.19.5)\n"
          ]
        }
      ]
    },
    {
      "cell_type": "markdown",
      "metadata": {
        "id": "rnnNWMnnM-Ih"
      },
      "source": [
        "**Trabalhar com vetor**"
      ]
    },
    {
      "cell_type": "code",
      "metadata": {
        "colab": {
          "base_uri": "https://localhost:8080/"
        },
        "id": "S8TJZMJi-FBW",
        "outputId": "c3444e08-a0cb-4ca7-8611-2a56aa69d3d0"
      },
      "source": [
        "import numpy as np\n",
        "vetor_teste = np.array([1,2,3,4,5])\n",
        "print(\"vetor:{}\".format(vetor_teste))"
      ],
      "execution_count": null,
      "outputs": [
        {
          "output_type": "stream",
          "name": "stdout",
          "text": [
            "vetor:[1 2 3 4 5]\n"
          ]
        }
      ]
    },
    {
      "cell_type": "code",
      "metadata": {
        "colab": {
          "base_uri": "https://localhost:8080/"
        },
        "id": "yC2sZamBR-1r",
        "outputId": "09390fa1-a60c-470c-f506-dd6ccd48e16b"
      },
      "source": [
        "import numpy as np\n",
        "vetor = np.array([5,21,33,54,85])\n",
        "posicao = 3\n",
        "print(\"vetor[{}]={}\".format(posicao,vetor[posicao]))"
      ],
      "execution_count": null,
      "outputs": [
        {
          "output_type": "stream",
          "name": "stdout",
          "text": [
            "vetor[3]=54\n"
          ]
        }
      ]
    },
    {
      "cell_type": "code",
      "metadata": {
        "colab": {
          "base_uri": "https://localhost:8080/"
        },
        "id": "NADVsS0_PRVl",
        "outputId": "4b1e9d71-09b5-47ec-da51-728412847959"
      },
      "source": [
        "import numpy as np\n",
        "\n",
        "vetor1 = np.array([5,21,33,54,85])\n",
        "vetor2 = np.array([6,7,8,9,10])\n",
        "vetor3 = vetor1 + vetor2\n",
        "print(\"soma dos vetores:{}\".format(vetor3))"
      ],
      "execution_count": null,
      "outputs": [
        {
          "output_type": "stream",
          "name": "stdout",
          "text": [
            "soma dos vetores:[11 28 41 63 95]\n"
          ]
        }
      ]
    },
    {
      "cell_type": "markdown",
      "metadata": {
        "id": "tTOedlxYNDjt"
      },
      "source": [
        "**Trabalhar com matriz**"
      ]
    },
    {
      "cell_type": "code",
      "metadata": {
        "colab": {
          "base_uri": "https://localhost:8080/"
        },
        "id": "qlH80Owr_OGp",
        "outputId": "1b69f3d3-1dc2-428b-cbab-8977d37148f8"
      },
      "source": [
        "import numpy as np\n",
        "matriz2D = np.array([[1,2,3,4,5],[6,7,8,9,10]])\n",
        "print(\"matriz2D:{}\".format(matriz2D))"
      ],
      "execution_count": null,
      "outputs": [
        {
          "output_type": "stream",
          "name": "stdout",
          "text": [
            "matriz2D:[[ 1  2  3  4  5]\n",
            " [ 6  7  8  9 10]]\n"
          ]
        }
      ]
    },
    {
      "cell_type": "code",
      "metadata": {
        "colab": {
          "base_uri": "https://localhost:8080/"
        },
        "id": "SmK4gsgxAI-f",
        "outputId": "15ebbaad-99cd-4092-a0f7-6b6e214889c3"
      },
      "source": [
        "import numpy as np\n",
        "matriz2D = np.array([[1,2,3,4,5],[6,7,8,9,10]])\n",
        "for vetor in matriz2D:\n",
        "  print(\"vetor: {}\".format(vetor))\n",
        "  for elem in vetor:\n",
        "    print(\"{}\".format(elem))"
      ],
      "execution_count": null,
      "outputs": [
        {
          "output_type": "stream",
          "name": "stdout",
          "text": [
            "vetor: [1 2 3 4 5]\n",
            "1\n",
            "2\n",
            "3\n",
            "4\n",
            "5\n",
            "vetor: [ 6  7  8  9 10]\n",
            "6\n",
            "7\n",
            "8\n",
            "9\n",
            "10\n"
          ]
        }
      ]
    },
    {
      "cell_type": "code",
      "metadata": {
        "colab": {
          "base_uri": "https://localhost:8080/"
        },
        "id": "SbAf2gCOA95f",
        "outputId": "d6895db1-4b2e-442a-bccc-dd02b24e32cf"
      },
      "source": [
        "import numpy as np\n",
        "\n",
        "matriz2D = np.array([[1,2,3,4,5],[6,7,8,9,10]])\n",
        "nlinhas, ncolunas = matriz2D.shape\n",
        "print(\"nlinhas={}, ncolunas={}\".format(nlinhas, ncolunas))"
      ],
      "execution_count": null,
      "outputs": [
        {
          "output_type": "stream",
          "name": "stdout",
          "text": [
            "nlinhas=2, ncolunas=5\n"
          ]
        }
      ]
    },
    {
      "cell_type": "code",
      "metadata": {
        "colab": {
          "base_uri": "https://localhost:8080/"
        },
        "id": "G4QH8qbifXau",
        "outputId": "20034f5e-e19b-40db-a319-a33ce5591922"
      },
      "source": [
        "import numpy as np\n",
        "matriz2D = np.array([[1,2,3,4,5],[6,7,8,9,10]])\n",
        "linhas, colunas = matriz2D.shape\n",
        "for i in range(linhas):\n",
        "  for j in range(colunas):\n",
        "    print(\"{}\".format(matriz2D[i,j]))"
      ],
      "execution_count": null,
      "outputs": [
        {
          "output_type": "stream",
          "name": "stdout",
          "text": [
            "1\n",
            "2\n",
            "3\n",
            "4\n",
            "5\n",
            "6\n",
            "7\n",
            "8\n",
            "9\n",
            "10\n"
          ]
        }
      ]
    },
    {
      "cell_type": "code",
      "metadata": {
        "colab": {
          "base_uri": "https://localhost:8080/"
        },
        "id": "CDiY5_KaRFqG",
        "outputId": "bfe374b8-26e1-4035-d9c6-a037c2344486"
      },
      "source": [
        "import numpy as np\n",
        "\n",
        "matriz2D = np.arange(15).reshape(3, 5)\n",
        "print('matriz: {}'.format(matriz2D))\n",
        "print('formato: {}'.format(matriz2D.shape))\n",
        "print('dimensões: {}'.format(matriz2D.ndim))\n",
        "print('tipo dos dados da matriz: {}'.format(matriz2D.dtype.name))\n",
        "print('tipo do dado: {}'.format(type(matriz2D)))\n",
        "print('quantidade de bytes do dado: {}'.format(matriz2D.itemsize))\n",
        "print('quantidade de elementos: {}'.format(matriz2D.size))\n"
      ],
      "execution_count": null,
      "outputs": [
        {
          "output_type": "stream",
          "name": "stdout",
          "text": [
            "matriz: [[ 0  1  2  3  4]\n",
            " [ 5  6  7  8  9]\n",
            " [10 11 12 13 14]]\n",
            "formato: (3, 5)\n",
            "dimensões: 2\n",
            "tipo dos dados da matriz: int64\n",
            "tipo do dado: <class 'numpy.ndarray'>\n",
            "quantidade de bytes do dado: 8\n",
            "quantidade de elementos: 15\n"
          ]
        }
      ]
    },
    {
      "cell_type": "markdown",
      "metadata": {
        "id": "Qo7djgh2A0--"
      },
      "source": [
        "**Exemplo: gerar valores randômicos de 1 a 100**"
      ]
    },
    {
      "cell_type": "code",
      "metadata": {
        "colab": {
          "base_uri": "https://localhost:8080/"
        },
        "id": "A7AWrYnQAyvy",
        "outputId": "303c344f-16cb-451d-d6c5-136120fcd95e"
      },
      "source": [
        "import numpy as np\n",
        "x = np.random.randint(100)\n",
        "print(\"x:{}\".format(x))"
      ],
      "execution_count": null,
      "outputs": [
        {
          "output_type": "stream",
          "name": "stdout",
          "text": [
            "x:55\n"
          ]
        }
      ]
    },
    {
      "cell_type": "code",
      "metadata": {
        "colab": {
          "base_uri": "https://localhost:8080/"
        },
        "id": "1GiFVfWADDQ1",
        "outputId": "1c9f6189-1958-4861-fe0b-34a2cbfb42f2"
      },
      "source": [
        "import numpy as np\n",
        "x = np.random.randint(100,size=5)\n",
        "print(\"x:{}\".format(x))"
      ],
      "execution_count": null,
      "outputs": [
        {
          "output_type": "stream",
          "name": "stdout",
          "text": [
            "x:[84 86 88 34 89]\n"
          ]
        }
      ]
    },
    {
      "cell_type": "code",
      "metadata": {
        "colab": {
          "base_uri": "https://localhost:8080/"
        },
        "id": "ZZqtnH49KoeG",
        "outputId": "cbba4b9e-54f2-4bf7-89d3-8261430cf7ea"
      },
      "source": [
        "from numpy.random import seed\n",
        "from numpy.random import normal\n",
        "\n",
        "seed(1)\n",
        "dados = normal(loc=0, scale=1, size=200)\n",
        "print(\"dados: {}\".format(dados))\n",
        "\n",
        "#loc: Média da distribuição. O padrão é 0.\n",
        "#scale: Desvio padrão da distribuição. O padrão é 1.\n",
        "#size: Tamanho dos dados.\n"
      ],
      "execution_count": null,
      "outputs": [
        {
          "output_type": "stream",
          "name": "stdout",
          "text": [
            "dados: [ 1.62434536 -0.61175641 -0.52817175 -1.07296862  0.86540763 -2.3015387\n",
            "  1.74481176 -0.7612069   0.3190391  -0.24937038  1.46210794 -2.06014071\n",
            " -0.3224172  -0.38405435  1.13376944 -1.09989127 -0.17242821 -0.87785842\n",
            "  0.04221375  0.58281521 -1.10061918  1.14472371  0.90159072  0.50249434\n",
            "  0.90085595 -0.68372786 -0.12289023 -0.93576943 -0.26788808  0.53035547\n",
            " -0.69166075 -0.39675353 -0.6871727  -0.84520564 -0.67124613 -0.0126646\n",
            " -1.11731035  0.2344157   1.65980218  0.74204416 -0.19183555 -0.88762896\n",
            " -0.74715829  1.6924546   0.05080775 -0.63699565  0.19091548  2.10025514\n",
            "  0.12015895  0.61720311  0.30017032 -0.35224985 -1.1425182  -0.34934272\n",
            " -0.20889423  0.58662319  0.83898341  0.93110208  0.28558733  0.88514116\n",
            " -0.75439794  1.25286816  0.51292982 -0.29809284  0.48851815 -0.07557171\n",
            "  1.13162939  1.51981682  2.18557541 -1.39649634 -1.44411381 -0.50446586\n",
            "  0.16003707  0.87616892  0.31563495 -2.02220122 -0.30620401  0.82797464\n",
            "  0.23009474  0.76201118 -0.22232814 -0.20075807  0.18656139  0.41005165\n",
            "  0.19829972  0.11900865 -0.67066229  0.37756379  0.12182127  1.12948391\n",
            "  1.19891788  0.18515642 -0.37528495 -0.63873041  0.42349435  0.07734007\n",
            " -0.34385368  0.04359686 -0.62000084  0.69803203 -0.44712856  1.2245077\n",
            "  0.40349164  0.59357852 -1.09491185  0.16938243  0.74055645 -0.9537006\n",
            " -0.26621851  0.03261455 -1.37311732  0.31515939  0.84616065 -0.85951594\n",
            "  0.35054598 -1.31228341 -0.03869551 -1.61577235  1.12141771  0.40890054\n",
            " -0.02461696 -0.77516162  1.27375593  1.96710175 -1.85798186  1.23616403\n",
            "  1.62765075  0.3380117  -1.19926803  0.86334532 -0.1809203  -0.60392063\n",
            " -1.23005814  0.5505375   0.79280687 -0.62353073  0.52057634 -1.14434139\n",
            "  0.80186103  0.0465673  -0.18656977 -0.10174587  0.86888616  0.75041164\n",
            "  0.52946532  0.13770121  0.07782113  0.61838026  0.23249456  0.68255141\n",
            " -0.31011677 -2.43483776  1.0388246   2.18697965  0.44136444 -0.10015523\n",
            " -0.13644474 -0.11905419  0.01740941 -1.12201873 -0.51709446 -0.99702683\n",
            "  0.24879916 -0.29664115  0.49521132 -0.17470316  0.98633519  0.2135339\n",
            "  2.19069973 -1.89636092 -0.64691669  0.90148689  2.52832571 -0.24863478\n",
            "  0.04366899 -0.22631424  1.33145711 -0.28730786  0.68006984 -0.3198016\n",
            " -1.27255876  0.31354772  0.50318481  1.29322588 -0.11044703 -0.61736206\n",
            "  0.5627611   0.24073709  0.28066508 -0.0731127   1.16033857  0.36949272\n",
            "  1.90465871  1.1110567   0.6590498  -1.62743834  0.60231928  0.4202822\n",
            "  0.81095167  1.04444209]\n"
          ]
        }
      ]
    },
    {
      "cell_type": "code",
      "metadata": {
        "colab": {
          "base_uri": "https://localhost:8080/"
        },
        "id": "PC1pUe9G9jQa",
        "outputId": "682d31a6-c082-4f96-abac-1e20dfd1d55a"
      },
      "source": [
        "import numpy as np\n",
        "a = np.arange(15).reshape(3, 5)\n",
        "print(\"vetor:{}\".format(a))"
      ],
      "execution_count": null,
      "outputs": [
        {
          "output_type": "stream",
          "name": "stdout",
          "text": [
            "vetor:[[ 0  1  2  3  4]\n",
            " [ 5  6  7  8  9]\n",
            " [10 11 12 13 14]]\n"
          ]
        }
      ]
    },
    {
      "cell_type": "code",
      "metadata": {
        "colab": {
          "base_uri": "https://localhost:8080/"
        },
        "id": "dGKKowCa6cTj",
        "outputId": "612af034-1f63-4c5f-c777-f1c5bab4cf1c"
      },
      "source": [
        "import numpy as np\n",
        "vetor = np.array([10,5,3,9,2,1])\n",
        "matriz = vetor.reshape(3,2)\n",
        "print(\"matriz:{}\".format(matriz))"
      ],
      "execution_count": null,
      "outputs": [
        {
          "output_type": "stream",
          "name": "stdout",
          "text": [
            "matriz:[[10  5]\n",
            " [ 3  9]\n",
            " [ 2  1]]\n"
          ]
        }
      ]
    },
    {
      "cell_type": "markdown",
      "metadata": {
        "id": "5LIe5AOKptr4"
      },
      "source": [
        "**Análise Exploratória de Dados**"
      ]
    },
    {
      "cell_type": "code",
      "metadata": {
        "id": "Jx4XmZEXpz7t"
      },
      "source": [
        "import numpy as np\n",
        "from scipy import stats\n",
        "\n",
        "dados = np.array([3,4,45,4,5,1,0,2,2,45,1,45,45,1,0,5,5,10,45,6,7,10.3,45,4.3,2])"
      ],
      "execution_count": null,
      "outputs": []
    },
    {
      "cell_type": "code",
      "metadata": {
        "colab": {
          "base_uri": "https://localhost:8080/"
        },
        "id": "hV23diOu7Yvi",
        "outputId": "bb6ed80f-73c6-4e34-e69d-bcded63a15e5"
      },
      "source": [
        "media = dados.mean()\n",
        "desvio_padrao=dados.std()\n",
        "variancia=dados.var()\n",
        "minimo = dados.min()\n",
        "maximo = dados.max()\n",
        "moda = stats.mode(dados)\n",
        "print(\"media:{}\".format(media))\n",
        "print(\"desvio padrão:{}\".format(desvio_padrao))\n",
        "print(\"variância:{}\".format(variancia))\n",
        "print(\"mínimo:{}\".format(minimo))\n",
        "print(\"máximo:{}\".format(maximo))\n",
        "print(\"moda:{}; quantidade:{}\".format(moda.mode,moda.count))"
      ],
      "execution_count": null,
      "outputs": [
        {
          "output_type": "stream",
          "name": "stdout",
          "text": [
            "media:13.704\n",
            "desvio padrão:17.771426054202852\n",
            "variância:315.823584\n",
            "mínimo:0.0\n",
            "máximo:45.0\n",
            "moda:[45.]; quantidade:[6]\n"
          ]
        }
      ]
    },
    {
      "cell_type": "markdown",
      "metadata": {
        "id": "hooGauJm--1o"
      },
      "source": [
        "# **Visualizar Dados**"
      ]
    },
    {
      "cell_type": "code",
      "metadata": {
        "colab": {
          "base_uri": "https://localhost:8080/",
          "height": 265
        },
        "id": "CS5b1iIlAL3S",
        "outputId": "c2220938-2a8a-45d4-dc62-be6461285d02"
      },
      "source": [
        "import matplotlib.pyplot as plt\n",
        "import numpy as np\n",
        "\n",
        "x = np.linspace(0, 10, 100)\n",
        "\n",
        "plt.plot(x, x**2, label='quadrática teste')\n",
        "plt.legend()\n",
        "plt.show()"
      ],
      "execution_count": null,
      "outputs": [
        {
          "output_type": "display_data",
          "data": {
            "image/png": "[encoded data removed]",
            "text/plain": [
              "<Figure size 432x288 with 1 Axes>"
            ]
          },
          "metadata": {
            "needs_background": "light"
          }
        }
      ]
    },
    {
      "cell_type": "code",
      "metadata": {
        "colab": {
          "base_uri": "https://localhost:8080/",
          "height": 265
        },
        "id": "57hJtmg4y0ci",
        "outputId": "1ad5b696-3ee8-4213-ffe2-20b8232cebbe"
      },
      "source": [
        "import matplotlib.pyplot as plt\n",
        "import numpy as np\n",
        "\n",
        "x = np.linspace(0, 10, 100)\n",
        "\n",
        "plt.plot(x, x**2, label='quadrática')\n",
        "plt.legend()\n",
        "plt.grid()\n",
        "plt.show()"
      ],
      "execution_count": null,
      "outputs": [
        {
          "output_type": "display_data",
          "data": {
            "image/png": "[encoded data removed]",
            "text/plain": [
              "<Figure size 432x288 with 1 Axes>"
            ]
          },
          "metadata": {
            "needs_background": "light"
          }
        }
      ]
    },
    {
      "cell_type": "code",
      "metadata": {
        "colab": {
          "base_uri": "https://localhost:8080/",
          "height": 265
        },
        "id": "ib2QTN0YzCBi",
        "outputId": "96c7bdea-d03d-4fe4-87d0-3ef3fd6d372f"
      },
      "source": [
        "import matplotlib.pyplot as plt\n",
        "import numpy as np\n",
        "\n",
        "x = np.linspace(0, 10, 100)\n",
        "\n",
        "plt.plot(x, x**2, label='quadrática')\n",
        "plt.legend()\n",
        "plt.grid(axis = 'x')\n",
        "plt.show()"
      ],
      "execution_count": null,
      "outputs": [
        {
          "output_type": "display_data",
          "data": {
            "image/png": "[encoded data removed]",
            "text/plain": [
              "<Figure size 432x288 with 1 Axes>"
            ]
          },
          "metadata": {
            "needs_background": "light"
          }
        }
      ]
    },
    {
      "cell_type": "code",
      "metadata": {
        "colab": {
          "base_uri": "https://localhost:8080/",
          "height": 306
        },
        "id": "Oud8UEEWA7ph",
        "outputId": "5b1d7b0d-c66d-4278-c3cf-9e45c691daf8"
      },
      "source": [
        "import matplotlib.pyplot as plt\n",
        "import numpy as np\n",
        "\n",
        "\n",
        "font1 = {'family':'serif','color':'blue','size':20}\n",
        "font2 = {'family':'serif','color':'darkred','size':15}\n",
        "\n",
        "plt.title(\"Este é um gráfico exemplo\", fontdict = font1)\n",
        "plt.xlabel(\"dias\", fontdict = font2)\n",
        "plt.ylabel(\"valores\", fontdict = font2)\n",
        "\n",
        "x = np.linspace(0, 10, 100)\n",
        "dias = x\n",
        "funcao = x**2\n",
        "plt.plot(dias, funcao, label='quadrática')\n",
        "plt.legend()\n",
        "plt.show()"
      ],
      "execution_count": null,
      "outputs": [
        {
          "output_type": "display_data",
          "data": {
            "image/png": "[encoded data removed]",
            "text/plain": [
              "<Figure size 432x288 with 1 Axes>"
            ]
          },
          "metadata": {
            "needs_background": "light"
          }
        }
      ]
    },
    {
      "cell_type": "code",
      "metadata": {
        "colab": {
          "base_uri": "https://localhost:8080/",
          "height": 265
        },
        "id": "jXIhJUkeBISd",
        "outputId": "0a71ecd3-53b8-4c60-aa99-5cbcb1a0f7ff"
      },
      "source": [
        "import matplotlib.pyplot as plt\n",
        "import numpy as np\n",
        "\n",
        "x = np.array([0.3, 3.8, 1.2, 2.5, 3.1, 2.7, 1.9, 1.5, 0.5, 0.95])\n",
        "y = np.array([11, 25, 9, 26, 20, 15, 33, 8, 2, 17])\n",
        "plt.scatter(x, y, color='darkgreen', marker='x', label='pontos dispersos')\n",
        "plt.legend()\n",
        "plt.show()"
      ],
      "execution_count": null,
      "outputs": [
        {
          "output_type": "display_data",
          "data": {
            "image/png": "[encoded data removed]",
            "text/plain": [
              "<Figure size 432x288 with 1 Axes>"
            ]
          },
          "metadata": {
            "needs_background": "light"
          }
        }
      ]
    },
    {
      "cell_type": "code",
      "metadata": {
        "colab": {
          "base_uri": "https://localhost:8080/",
          "height": 269
        },
        "id": "dQ2-Fc8BALhZ",
        "outputId": "770d1acf-4173-4e0a-d7da-bf360b8ce0d8"
      },
      "source": [
        "import matplotlib.pyplot as plt\n",
        "\n",
        "x = np.linspace(0, 5, 100)\n",
        "plt.plot(x, x**2, color='lightblue', linewidth=3, label='quadrática')\n",
        "x = np.array([0.3, 3.8, 1.2, 2.5, 3.1, 2.7, 1.9, 1.5, 0.5, 0.95])\n",
        "y = np.array([11, 25, 9, 26, 20, 15, 33, 8, 2, 17])\n",
        "plt.scatter(x, y, color='darkgreen', marker='^', label='pontos dispersos')\n",
        "plt.legend()\n",
        "plt.xlim(0.5, 4.5)\n",
        "plt.ylim(0.0, 45)\n",
        "plt.show()"
      ],
      "execution_count": null,
      "outputs": [
        {
          "output_type": "display_data",
          "data": {
            "image/png": "[encoded data removed]",
            "text/plain": [
              "<Figure size 432x288 with 1 Axes>"
            ]
          },
          "metadata": {
            "needs_background": "light"
          }
        }
      ]
    },
    {
      "cell_type": "code",
      "metadata": {
        "colab": {
          "base_uri": "https://localhost:8080/",
          "height": 265
        },
        "id": "ymVJPhKCzfVB",
        "outputId": "cb74cbd8-e79d-4723-df19-c84c73035d6e"
      },
      "source": [
        "import matplotlib.pyplot as plt\n",
        "\n",
        "#plot 1:\n",
        "x = np.linspace(0, 5, 100)\n",
        "y = x**2\n",
        "plt.subplot(2,1,1)#a figura tem duas linhas, uma coluna e está no primeito gráfico.\n",
        "plt.plot(x, y, color='lightblue', linewidth=3, label='quadrática')\n",
        "plt.legend()\n",
        "\n",
        "#plot 2:\n",
        "x = np.array([0.3, 3.8, 1.2, 2.5, 3.1, 2.7, 1.9, 1.5, 0.5, 0.95])\n",
        "y = np.array([11, 25, 9, 26, 20, 15, 33, 8, 2, 17])\n",
        "plt.subplot(2,1,2) #a figura tem duas linhas, uma coluna e está no segundo gráfico.\n",
        "plt.scatter(x, y, color='darkgreen', marker='^', label='pontos dispersos')\n",
        "plt.legend()\n",
        "\n",
        "\n",
        "plt.show()"
      ],
      "execution_count": null,
      "outputs": [
        {
          "output_type": "display_data",
          "data": {
            "image/png": "[encoded data removed]",
            "text/plain": [
              "<Figure size 432x288 with 2 Axes>"
            ]
          },
          "metadata": {
            "needs_background": "light"
          }
        }
      ]
    },
    {
      "cell_type": "markdown",
      "metadata": {
        "id": "YSmTTfofFu-i"
      },
      "source": [
        "# **Exercícios:** Um empreendedor possui 6 investimentos e tem a percepção de que podem render melhor. Nesse sentido, ele resolveu contratar um dos cientistas de dados da turma de pós graduação. Agora, você precisa produzir os seguintes estudos:\n",
        "\n",
        "\n",
        "1.   Imprimir um gráfico de retorno de cada investimento;\n",
        "2.   Gerar uma análise de média, desvio-padrão e os valores mínimo e máximo de cada investimento.\n",
        "\n",
        "Observações:\n",
        "\n",
        "1.   Utilize funções\n",
        "2.   O período de estudo é de 365 dias\n",
        "3.   Gere valores aleatórios para os rendimentos seguindo a distribuição normal\n",
        "\n",
        "\n",
        "\n"
      ]
    },
    {
      "cell_type": "markdown",
      "source": [
        "**Solução: próxima aula**"
      ],
      "metadata": {
        "id": "H4sqaWQFol1l"
      }
    }
  ]
}